{
  "nbformat": 4,
  "nbformat_minor": 0,
  "metadata": {
    "colab": {
      "provenance": [],
      "authorship_tag": "ABX9TyP4l3166FtOGvZy9jZxTKYa",
      "include_colab_link": true
    },
    "kernelspec": {
      "name": "python3",
      "display_name": "Python 3"
    },
    "language_info": {
      "name": "python"
    }
  },
  "cells": [
    {
      "cell_type": "markdown",
      "metadata": {
        "id": "view-in-github",
        "colab_type": "text"
      },
      "source": [
        "<a href=\"https://colab.research.google.com/github/kirill123344/LB2/blob/main/%D0%91%D0%98%D0%9A_24_%D0%98%D0%92_2_%D0%A1%D1%82%D1%80%D1%83%D1%87%D0%BA%D0%BE%D0%B2_%D0%9B%D0%A010.ipynb\" target=\"_parent\"><img src=\"https://colab.research.google.com/assets/colab-badge.svg\" alt=\"Open In Colab\"/></a>"
      ]
    },
    {
      "cell_type": "code",
      "execution_count": 2,
      "metadata": {
        "colab": {
          "base_uri": "https://localhost:8080/"
        },
        "id": "BWMt_rZIswdA",
        "outputId": "3c8b8ca8-052d-4f5c-d29f-d749bcb13d03"
      },
      "outputs": [
        {
          "output_type": "stream",
          "name": "stdout",
          "text": [
            "Введите числа: Для завершения введите 0.\n",
            "Введите число: 3\n",
            "Введите число: 2\n",
            "Введите число: 3\n",
            "Введите число: 4\n",
            "Введите число: 0\n",
            "Сумма введенных чисел: 12\n"
          ]
        }
      ],
      "source": [
        "def sum_numbers():\n",
        "    total = 0\n",
        "    print(\"Введите числа: Для завершения введите 0.\")\n",
        "    while True:\n",
        "        num = int(input(\"Введите число: \"))\n",
        "        if num == 0:\n",
        "            break\n",
        "        total += num\n",
        "    return total\n",
        "result = sum_numbers()\n",
        "print(f\"Сумма введенных чисел: {result}\")\n"
      ]
    },
    {
      "cell_type": "markdown",
      "source": [
        "С клавиатуры вводятся числа до тех пор, пока не введен 0. Реализуйте функцию для суммирования всех введенных чисел."
      ],
      "metadata": {
        "id": "QEjNfZqutQNK"
      }
    },
    {
      "cell_type": "code",
      "source": [
        "def get_sorted_numbers(phonebook):\n",
        "    \"\"\"Возвращает номера телефонов в порядке возрастания.\"\"\"\n",
        "    return sorted(phonebook.values())\n",
        "\n",
        "def get_sorted_names(phonebook):\n",
        "    \"\"\"Возвращает имена в порядке возрастания.\"\"\"\n",
        "    return sorted(phonebook.keys())\n",
        "\n",
        "phonebook = {}\n",
        "\n",
        "print(\"Введите пары 'имя номер'. Введите '0 0' для завершения.\")\n",
        "while True:\n",
        "    entry = input(\"Введите имя и номер через пробел: \").strip()\n",
        "    name, phone = entry.split()\n",
        "    if name == \"0\" and phone == \"0\":\n",
        "        break\n",
        "    phonebook[name] = phone\n",
        "\n",
        "sorted_numbers = get_sorted_numbers(phonebook)\n",
        "sorted_names = get_sorted_names(phonebook)\n",
        "\n",
        "print(\"Номера телефонов в порядке возрастания:\", sorted_numbers)\n",
        "print(\"Имена в порядке возрастания:\", sorted_names)"
      ],
      "metadata": {
        "colab": {
          "base_uri": "https://localhost:8080/"
        },
        "id": "t9_flhWRtS3e",
        "outputId": "7df6abcf-fd0b-4160-e8db-9c2c1024c1fc"
      },
      "execution_count": 4,
      "outputs": [
        {
          "output_type": "stream",
          "name": "stdout",
          "text": [
            "Введите пары 'имя номер'. Введите '0 0' для завершения.\n",
            "Введите имя и номер через пробел: kirill 431\n",
            "Введите имя и номер через пробел: miketyson 1313\n",
            "Введите имя и номер через пробел: biden 9933\n",
            "Введите имя и номер через пробел: 0 0\n",
            "Номера телефонов в порядке возрастания: ['1313', '431', '9933']\n",
            "Имена в порядке возрастания: ['biden', 'kirill', 'miketyson']\n"
          ]
        }
      ]
    },
    {
      "cell_type": "markdown",
      "source": [
        "С клавиатуры вводится пара аргументов: имя и соответствующий ему номер телефона. Таких значений может быть введено сколько угодно много, пока не введена пара 0-0. Реализуйте две фукнции:\n",
        "1. Возвращает номера телефонов в порядке возрастания\n",
        "2. Возвращает имена в порядке возрастания\n"
      ],
      "metadata": {
        "id": "jIq5PXuBt9hg"
      }
    }
  ]
}