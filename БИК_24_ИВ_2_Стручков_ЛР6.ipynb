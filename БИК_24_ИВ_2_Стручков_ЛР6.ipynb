{
  "nbformat": 4,
  "nbformat_minor": 0,
  "metadata": {
    "colab": {
      "provenance": [],
      "authorship_tag": "ABX9TyOQJIMOcxTHy9nbfNo4iFN6",
      "include_colab_link": true
    },
    "kernelspec": {
      "name": "python3",
      "display_name": "Python 3"
    },
    "language_info": {
      "name": "python"
    }
  },
  "cells": [
    {
      "cell_type": "markdown",
      "metadata": {
        "id": "view-in-github",
        "colab_type": "text"
      },
      "source": [
        "<a href=\"https://colab.research.google.com/github/kirill123344/LB2/blob/main/%D0%91%D0%98%D0%9A_24_%D0%98%D0%92_2_%D0%A1%D1%82%D1%80%D1%83%D1%87%D0%BA%D0%BE%D0%B2_%D0%9B%D0%A06.ipynb\" target=\"_parent\"><img src=\"https://colab.research.google.com/assets/colab-badge.svg\" alt=\"Open In Colab\"/></a>"
      ]
    },
    {
      "cell_type": "markdown",
      "source": [
        "напишите программу которая бы вычисляла сумму чисел до с n до m. Числа n и m вводятся с клавиатуры."
      ],
      "metadata": {
        "id": "g7s0HZofRhVU"
      }
    },
    {
      "cell_type": "code",
      "source": [
        "n = int(input())\n",
        "m = int(input())\n",
        "tora_lin = sum(range(n,m+1))\n",
        "print (f\"{tora_lin}\")"
      ],
      "metadata": {
        "colab": {
          "base_uri": "https://localhost:8080/"
        },
        "id": "0AKbjUa6RiMQ",
        "outputId": "c27c8047-5c3f-49d4-e51f-e383bee3ab20"
      },
      "execution_count": 11,
      "outputs": [
        {
          "output_type": "stream",
          "name": "stdout",
          "text": [
            "1\n",
            "5\n",
            "15\n"
          ]
        }
      ]
    },
    {
      "cell_type": "markdown",
      "source": [
        "напишите программу на вход два числа n и m и вычисляет сумму этих чисел. Программа принимает числаи выводит результат до тех пор, пока пользователь не введет такую комбинацию чисел, что n=m."
      ],
      "metadata": {
        "id": "s-NPCEJdV6RO"
      }
    },
    {
      "cell_type": "code",
      "source": [
        "total_sum = 0\n",
        "while True:\n",
        "\n",
        "  n = int(input())\n",
        "  m = int(input())\n",
        "  if n == m:\n",
        "    print(\"oshibka, dva odinakovyh chisla\")\n",
        "    break\n",
        "  total_sum = n + m\n",
        "  print(f\"summa:{total_sum}.\")"
      ],
      "metadata": {
        "colab": {
          "base_uri": "https://localhost:8080/"
        },
        "id": "dWgeUgsNdnaK",
        "outputId": "4efb9a04-6fd2-412e-d174-ca69e381da6d"
      },
      "execution_count": 62,
      "outputs": [
        {
          "output_type": "stream",
          "name": "stdout",
          "text": [
            "15\n",
            "2\n",
            "summa:17.\n",
            "6\n",
            "6\n",
            "oshibka, dva odinakovyh chisla\n"
          ]
        }
      ]
    },
    {
      "cell_type": "markdown",
      "source": [],
      "metadata": {
        "id": "dsV2b-lFd4gA"
      }
    }
  ]
}