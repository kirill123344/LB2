{
  "cells": [
    {
      "cell_type": "markdown",
      "metadata": {
        "id": "view-in-github",
        "colab_type": "text"
      },
      "source": [
        "<a href=\"https://colab.research.google.com/github/kirill123344/LB2/blob/main/%D0%91%D0%98%D0%9A_24_%D0%98%D0%92_2_%D0%A1%D1%82%D1%80%D1%83%D1%87%D0%BA%D0%BE%D0%B2_%D0%9B%D0%A06.ipynb\" target=\"_parent\"><img src=\"https://colab.research.google.com/assets/colab-badge.svg\" alt=\"Open In Colab\"/></a>"
      ]
    },
    {
      "cell_type": "code",
      "source": [
        "numbers = []\n",
        "squares = []\n",
        "cubes = []\n",
        "\n",
        "for i in range(1, 11):\n",
        "    numbers.append(i)\n",
        "    squares.append(i**2)\n",
        "    cubes.append(i**3)\n",
        "\n",
        "print(\"Числа:\", numbers)\n",
        "print(\"Квадраты:\", squares)\n",
        "print(\"Кубы:\", cubes)\n"
      ],
      "metadata": {
        "colab": {
          "base_uri": "https://localhost:8080/"
        },
        "id": "gOY2nk1wRE0G",
        "outputId": "eb91e9da-7e12-40a7-f89c-6ce67ce979c1"
      },
      "execution_count": 3,
      "outputs": [
        {
          "output_type": "stream",
          "name": "stdout",
          "text": [
            "Числа: [1, 2, 3, 4, 5, 6, 7, 8, 9, 10]\n",
            "Квадраты: [1, 4, 9, 16, 25, 36, 49, 64, 81, 100]\n",
            "Кубы: [1, 8, 27, 64, 125, 216, 343, 512, 729, 1000]\n"
          ]
        }
      ]
    },
    {
      "cell_type": "markdown",
      "source": [
        "Задание 1\n",
        "Напишите программу, которая с помощью цикла создает список чисел от 1 до 10, а также списки их квадратов и кубов. В конце необходимо вывести три соответствующих списка.\n",
        "\n"
      ],
      "metadata": {
        "id": "le0ecpDDRJaQ"
      }
    },
    {
      "cell_type": "code",
      "source": [
        "numbers = []\n",
        "\n",
        "while True:\n",
        "    num = int(input(\"Введите число (0 для завершения): \"))\n",
        "    if num == 0:\n",
        "        break\n",
        "    numbers.append(num)\n",
        "\n",
        "if not numbers:\n",
        "    print(\"Список пуст. Нет данных для анализа.\")\n",
        "else:\n",
        "    min_value = min(numbers)\n",
        "\n",
        "    max_value = max(numbers)\n",
        "\n",
        "    sorted_asc = sorted(numbers)\n",
        "\n",
        "    sorted_desc = sorted(numbers, reverse=True)\n",
        "\n",
        "    count = len(numbers)\n",
        "\n",
        "    count_ones = numbers.count(1)\n",
        "\n",
        "    # 7. Сумма всех чисел\n",
        "    total_sum = sum(numbers)\n",
        "\n",
        "    last_value = numbers[-1]\n",
        "    last_index = len(numbers) - 1\n",
        "\n",
        "    # Вывод результатов\n",
        "    print(f\"1. Минимальное значение: {min_value}\")\n",
        "    print(f\"2. Максимальное значение: {max_value}\")\n",
        "    print(f\"3. Список по возрастанию: {sorted_asc}\")\n",
        "    print(f\"4. Список по убыванию: {sorted_desc}\")\n",
        "    print(f\"5. Количество элементов в списке: {count}\")\n",
        "    print(f\"6. Количество единиц в списке: {count_ones}\")\n",
        "    print(f\"7. Сумма всех чисел: {total_sum}\")\n",
        "    print(f\"8. Последний введенный элемент: индекс {last_index}, значение {last_value}\")\n"
      ],
      "metadata": {
        "colab": {
          "base_uri": "https://localhost:8080/"
        },
        "id": "ZEJxeZ4ORL75",
        "outputId": "8b7f5068-57a7-4e9e-d4ef-cf61b939a6d6"
      },
      "execution_count": 4,
      "outputs": [
        {
          "output_type": "stream",
          "name": "stdout",
          "text": [
            "Введите число (0 для завершения): 2\n",
            "Введите число (0 для завершения): 1\n",
            "Введите число (0 для завершения): 4\n",
            "Введите число (0 для завершения): 6\n",
            "Введите число (0 для завершения): 2\n",
            "Введите число (0 для завершения): 0\n",
            "1. Минимальное значение: 1\n",
            "2. Максимальное значение: 6\n",
            "3. Список по возрастанию: [1, 2, 2, 4, 6]\n",
            "4. Список по убыванию: [6, 4, 2, 2, 1]\n",
            "5. Количество элементов в списке: 5\n",
            "6. Количество единиц в списке: 1\n",
            "7. Сумма всех чисел: 15\n",
            "8. Последний введенный элемент: индекс 4, значение 2\n"
          ]
        }
      ]
    },
    {
      "cell_type": "markdown",
      "source": [
        "Задание 2\n",
        "С клавиатуры вводится список чисел до тех пор, пока не введен 0. После этого выведите:\n",
        "1. Минимальное значение введенной последовательности\n",
        "2. Максимальное значение введенной последовательности\n",
        "3. Отсортированный по возрастанию список\n",
        "4. Отсортированный по убыванию список\n",
        "5. Количество элементов в списке\n",
        "6. Количество единиц в списке\n",
        "7. Сумму всех чисел\n",
        "8. Индекс и значение последнего введенного элемента (не 0)\n"
      ],
      "metadata": {
        "id": "zuO-tfNGSAwJ"
      }
    },
    {
      "cell_type": "code",
      "source": [
        "numbers = []\n",
        "while True:\n",
        "    num = int(input(\"Введите число (0 для завершения): \"))\n",
        "    if num == 0:\n",
        "        break\n",
        "    if num % 2 == 0:\n",
        "        numbers.append(num)\n",
        "filtered_numbers = [num for num in numbers if num % 10 != 0]\n",
        "print(\"Итоговый список:\", filtered_numbers)"
      ],
      "metadata": {
        "colab": {
          "base_uri": "https://localhost:8080/"
        },
        "id": "IYsC8sMTSD4c",
        "outputId": "3b64fc88-5885-4416-8833-0818a82331e2"
      },
      "execution_count": 1,
      "outputs": [
        {
          "output_type": "stream",
          "name": "stdout",
          "text": [
            "Введите число (0 для завершения): 3\n",
            "Введите число (0 для завершения): 4\n",
            "Введите число (0 для завершения): 1\n",
            "Введите число (0 для завершения): 6\n",
            "Введите число (0 для завершения): 13\n",
            "Введите число (0 для завершения): 0\n",
            "Итоговый список: [4, 6]\n"
          ]
        }
      ]
    },
    {
      "cell_type": "markdown",
      "source": [
        "Дан пустой массив. С клавиатуры вводятся числа. Если число четное, то оно добавляется в конец массива, если нечетное - то не добавляется. Ввод происходит до тех пор, пока не введен ноль. После этого, необхоидмо удалить из массива все значения, которые кратны 10 и вывести итоговый список."
      ],
      "metadata": {
        "id": "znS4gEsFgsOz"
      }
    }
  ],
  "metadata": {
    "colab": {
      "provenance": [],
      "authorship_tag": "ABX9TyN0IiWuEtijiu64dJ8PpoTv",
      "include_colab_link": true
    },
    "kernelspec": {
      "display_name": "Python 3",
      "name": "python3"
    },
    "language_info": {
      "name": "python"
    }
  },
  "nbformat": 4,
  "nbformat_minor": 0
}