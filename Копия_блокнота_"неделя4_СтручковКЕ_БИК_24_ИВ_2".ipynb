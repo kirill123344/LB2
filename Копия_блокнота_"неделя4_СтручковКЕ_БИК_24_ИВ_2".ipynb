{
  "nbformat": 4,
  "nbformat_minor": 0,
  "metadata": {
    "colab": {
      "provenance": [],
      "authorship_tag": "ABX9TyPDRfXJd+MN1l2vYqUwjzOw",
      "include_colab_link": true
    },
    "kernelspec": {
      "name": "python3",
      "display_name": "Python 3"
    },
    "language_info": {
      "name": "python"
    }
  },
  "cells": [
    {
      "cell_type": "markdown",
      "metadata": {
        "id": "view-in-github",
        "colab_type": "text"
      },
      "source": [
        "<a href=\"https://colab.research.google.com/github/kirill123344/LB2/blob/main/%D0%9A%D0%BE%D0%BF%D0%B8%D1%8F_%D0%B1%D0%BB%D0%BE%D0%BA%D0%BD%D0%BE%D1%82%D0%B0_%22%D0%BD%D0%B5%D0%B4%D0%B5%D0%BB%D1%8F4_%D0%A1%D1%82%D1%80%D1%83%D1%87%D0%BA%D0%BE%D0%B2%D0%9A%D0%95_%D0%91%D0%98%D0%9A_24_%D0%98%D0%92_2%22.ipynb\" target=\"_parent\"><img src=\"https://colab.research.google.com/assets/colab-badge.svg\" alt=\"Open In Colab\"/></a>"
      ]
    },
    {
      "cell_type": "code",
      "source": [
        "a = int(input(\"Введите число которое не меньшее 2: \"))\n",
        "def find_repotor(a):\n",
        "    repotor = 2\n",
        "    while repotor * repotor <= a:\n",
        "        if a % repotor == 0:\n",
        "            return repotor\n",
        "        repotor += 1\n",
        "    return a\n",
        "\n",
        "print(find_repotor(a))"
      ],
      "metadata": {
        "colab": {
          "base_uri": "https://localhost:8080/"
        },
        "id": "JnOc6B3TU36c",
        "outputId": "a99b0c10-ecae-43cd-959e-1395e25f8d75"
      },
      "execution_count": null,
      "outputs": [
        {
          "output_type": "stream",
          "name": "stdout",
          "text": [
            "Введите число которое не меньшее 2: 15\n",
            "3\n"
          ]
        }
      ]
    },
    {
      "cell_type": "markdown",
      "source": [
        "1 задача"
      ],
      "metadata": {
        "id": "4hE6xCaQU5Ht"
      }
    },
    {
      "cell_type": "code",
      "source": [
        "n = int(input(\"Введите натуральное число n: \"))\n",
        "def fibonacci(n):\n",
        "    if y == 0:\n",
        "        return 0\n",
        "    elif n == 1:\n",
        "        return 1\n",
        "    else:\n",
        "        a, b = 0, 1\n",
        "        for _ in range(2, n + 1):\n",
        "            a, b = b, a + b\n",
        "        return b\n",
        "print(fibonacci(n))"
      ],
      "metadata": {
        "colab": {
          "base_uri": "https://localhost:8080/"
        },
        "id": "FIxWZ9XUjIC_",
        "outputId": "a8e8354b-6b3a-4551-cbbe-476ffa4c160a"
      },
      "execution_count": null,
      "outputs": [
        {
          "output_type": "stream",
          "name": "stdout",
          "text": [
            "Введите натуральное число n: 10\n",
            "55\n"
          ]
        }
      ]
    },
    {
      "cell_type": "markdown",
      "source": [
        "2 задача"
      ],
      "metadata": {
        "id": "aQjGtLpRjYOG"
      }
    },
    {
      "cell_type": "code",
      "source": [
        "total_sum = 0\n",
        "\n",
        "while True:\n",
        "    req = int(input())\n",
        "    if req == 0:\n",
        "        break\n",
        "    total_sum += req\n",
        "print(total_sum)\n"
      ],
      "metadata": {
        "colab": {
          "base_uri": "https://localhost:8080/"
        },
        "id": "Bhsx8yB-javM",
        "outputId": "94b4d1a5-b97c-48a4-e82c-be28fdcaef42"
      },
      "execution_count": null,
      "outputs": [
        {
          "output_type": "stream",
          "name": "stdout",
          "text": [
            "3\n",
            "2\n",
            "1\n",
            "0\n",
            "6\n"
          ]
        }
      ]
    },
    {
      "cell_type": "markdown",
      "source": [
        "3 задача"
      ],
      "metadata": {
        "id": "nhUnMolCkH8r"
      }
    },
    {
      "cell_type": "code",
      "source": [
        "prev_num = int(input())\n",
        "count = 0\n",
        "\n",
        "while True:\n",
        "    current_num = int(input())\n",
        "\n",
        "    if current_num == 0:\n",
        "        break\n",
        "\n",
        "    if current_num > prev_num:\n",
        "        count += 1\n",
        "\n",
        "    prev_num = current_num\n",
        "\n",
        "print(count)\n"
      ],
      "metadata": {
        "colab": {
          "base_uri": "https://localhost:8080/"
        },
        "id": "wks6JpVxkKGF",
        "outputId": "a32f1215-3587-4a2d-d316-ee953b40ed59"
      },
      "execution_count": null,
      "outputs": [
        {
          "output_type": "stream",
          "name": "stdout",
          "text": [
            "2\n",
            "4\n",
            "1\n",
            "7\n",
            "1\n",
            "8\n",
            "0\n",
            "3\n"
          ]
        }
      ]
    },
    {
      "cell_type": "markdown",
      "source": [
        "4 задача"
      ],
      "metadata": {
        "id": "O2sIggt9lYbL"
      }
    },
    {
      "cell_type": "code",
      "source": [
        "number_max1 = 0\n",
        "number_max2 = 0\n",
        "\n",
        "while True:\n",
        "    num = int(input())\n",
        "\n",
        "    if num == 0:\n",
        "        break\n",
        "\n",
        "    if num > number_max1:\n",
        "        number_max2 = number_max1\n",
        "        number_max1 = num\n",
        "    elif num > number_max2:\n",
        "        number_max2 = num\n",
        "\n",
        "print(number_max2)"
      ],
      "metadata": {
        "colab": {
          "base_uri": "https://localhost:8080/"
        },
        "id": "Fd4-0_TblbPA",
        "outputId": "974f2af8-43d2-4b4d-f0e8-dc27fd67bc80"
      },
      "execution_count": null,
      "outputs": [
        {
          "output_type": "stream",
          "name": "stdout",
          "text": [
            "1\n",
            "2\n",
            "3\n",
            "4\n",
            "0\n",
            "3\n"
          ]
        }
      ]
    },
    {
      "cell_type": "markdown",
      "source": [
        "5 задача"
      ],
      "metadata": {
        "id": "tvdZcfDcmocn"
      }
    },
    {
      "cell_type": "code",
      "source": [
        "f = int(input(\"Введите число N: \"))\n",
        "def binary_reverse(f):\n",
        "    result = \"\"\n",
        "    while f > 0:\n",
        "        result += str(f % 2)\n",
        "        f //= 2\n",
        "    return result\n",
        "\n",
        "print(binary_reverse(f))\n"
      ],
      "metadata": {
        "colab": {
          "base_uri": "https://localhost:8080/"
        },
        "id": "sVqpe_BBmqIf",
        "outputId": "15a2bd62-6ed2-4c98-c3e3-d208f9924dc4"
      },
      "execution_count": null,
      "outputs": [
        {
          "output_type": "stream",
          "name": "stdout",
          "text": [
            "Введите число N: 3\n",
            "11\n"
          ]
        }
      ]
    },
    {
      "cell_type": "markdown",
      "source": [
        "6 задача"
      ],
      "metadata": {
        "id": "sMyY70XAqCm_"
      }
    },
    {
      "cell_type": "code",
      "source": [
        "def is_palindrome(n):\n",
        "    s = str(n)\n",
        "    return s == s[::-1]\n",
        "\n",
        "def count_palindromes(a):\n",
        "    count = 0\n",
        "    for i in range(1, a + 1):\n",
        "        if is_palindrome(i):\n",
        "            count += 1\n",
        "    return count\n",
        "\n",
        "a = int(input(\"Введите число K: \"))\n",
        "print(count_palindromes(a))\n"
      ],
      "metadata": {
        "colab": {
          "base_uri": "https://localhost:8080/"
        },
        "id": "Giwxa8zCqI4C",
        "outputId": "de2ecc10-3f3f-4842-c0f0-6ea63c248759"
      },
      "execution_count": null,
      "outputs": [
        {
          "output_type": "stream",
          "name": "stdout",
          "text": [
            "Введите число K: 11\n",
            "10\n"
          ]
        }
      ]
    },
    {
      "cell_type": "markdown",
      "source": [
        "7 задача"
      ],
      "metadata": {
        "id": "l6Sszl93rRYO"
      }
    },
    {
      "cell_type": "code",
      "source": [
        "def gnche_1(seconds):\n",
        "    result = []\n",
        "    current = 1\n",
        "    while len(result) < seconds:\n",
        "        result.extend([current] * current)\n",
        "        current += 1\n",
        "    return result[:seconds]\n",
        "\n",
        "t = int(input(\"Введите количество секунд: \"))\n",
        "print(\" \".join(map(str, gnche_1(t))))\n"
      ],
      "metadata": {
        "colab": {
          "base_uri": "https://localhost:8080/"
        },
        "id": "2wOB_HearTyh",
        "outputId": "e4750b51-b3d0-462a-f24c-0d7e76122022"
      },
      "execution_count": null,
      "outputs": [
        {
          "output_type": "stream",
          "name": "stdout",
          "text": [
            "Введите количество секунд: 8\n",
            "1 2 2 3 3 3 4 4\n"
          ]
        }
      ]
    },
    {
      "cell_type": "markdown",
      "source": [
        "8 задача"
      ],
      "metadata": {
        "id": "-J2u46QTs9Sx"
      }
    },
    {
      "cell_type": "code",
      "source": [
        "def geometric_sum(f, a):\n",
        "    total_sum = 1\n",
        "    current_term = 1\n",
        "\n",
        "    for _ in range(1, a + 1):\n",
        "        current_term *= f\n",
        "        total_sum += current_term\n",
        "\n",
        "    return total_sum\n",
        "\n",
        "\n",
        "f = float(input(\"Введите число f: \"))\n",
        "a = int(input(\"Введите число a: \"))\n",
        "\n",
        "print(geometric_sum(f, a))\n"
      ],
      "metadata": {
        "colab": {
          "base_uri": "https://localhost:8080/"
        },
        "id": "YKdzH92-s-3-",
        "outputId": "4bf0c5ff-2ae7-44c9-921a-c9bd170ffeb3"
      },
      "execution_count": null,
      "outputs": [
        {
          "output_type": "stream",
          "name": "stdout",
          "text": [
            "Введите число f: 0.5\n",
            "Введите число a: 5\n",
            "1.96875\n"
          ]
        }
      ]
    },
    {
      "cell_type": "markdown",
      "source": [
        "9 задача"
      ],
      "metadata": {
        "id": "JP5eUKjOvRhp"
      }
    },
    {
      "cell_type": "code",
      "source": [
        "def years_to_achieve(x, p, y):\n",
        "    years = 0\n",
        "    while x < y:\n",
        "        x += (x * p) // 100\n",
        "        years += 1\n",
        "    return years\n",
        "\n",
        "x = int(input(\"Введите начальный вклад (x): \"))\n",
        "p = int(input(\"Введите процентную ставку (p): \"))\n",
        "y = int(input(\"Введите целевую сумму (y): \"))\n",
        "\n",
        "print(years_to_achieve(x, p, y))\n"
      ],
      "metadata": {
        "colab": {
          "base_uri": "https://localhost:8080/"
        },
        "id": "Ni0cze_cvTqn",
        "outputId": "a3e43ad3-a1ec-40d2-a4fc-557d9d103222"
      },
      "execution_count": null,
      "outputs": [
        {
          "output_type": "stream",
          "name": "stdout",
          "text": [
            "Введите начальный вклад (x): 100\n",
            "Введите процентную ставку (p): 10\n",
            "Введите целевую сумму (y): 300\n",
            "12\n"
          ]
        }
      ]
    },
    {
      "cell_type": "markdown",
      "source": [
        "10 задача"
      ],
      "metadata": {
        "id": "5RbYbZjexB6N"
      }
    },
    {
      "cell_type": "code",
      "source": [
        "def powers_of_two(n):\n",
        "    power = 1\n",
        "    while power <= n:\n",
        "        print(power, end=\" \")\n",
        "        power *= 2\n",
        "\n",
        "n = int(input(\"Введите число N: \"))\n",
        "powers_of_two(n)"
      ],
      "metadata": {
        "colab": {
          "base_uri": "https://localhost:8080/"
        },
        "id": "2SRfhJUBxENd",
        "outputId": "490facf2-ceaa-4c4b-ba26-30774c2efb20"
      },
      "execution_count": null,
      "outputs": [
        {
          "output_type": "stream",
          "name": "stdout",
          "text": [
            "Введите число N: 100\n",
            "1 2 4 8 16 32 64 "
          ]
        }
      ]
    },
    {
      "cell_type": "markdown",
      "source": [
        "11 задача"
      ],
      "metadata": {
        "id": "fmJ06p9kxoOO"
      }
    },
    {
      "cell_type": "code",
      "source": [
        "def count_numbers(n, numbers):\n",
        "    zer = 0\n",
        "    pos = 0\n",
        "    neg = 0\n",
        "\n",
        "    for num in numbers:\n",
        "        if num == 0:\n",
        "            zer += 1\n",
        "        elif num > 0:\n",
        "            pos += 1\n",
        "        else:\n",
        "            neg += 1\n",
        "\n",
        "    return zer, pos, neg\n",
        "\n",
        "\n",
        "n = int(input(\"Введите число N: \"))\n",
        "numbers = [int(input()) for _ in range(n)]\n",
        "\n",
        "zer, pos, neg = count_numbers(n, numbers)\n",
        "print(zer, pos, neg)\n"
      ],
      "metadata": {
        "colab": {
          "base_uri": "https://localhost:8080/"
        },
        "id": "Ulv-xTdVxpQZ",
        "outputId": "b2425893-0739-4182-c42b-d2b1a1a53ce9"
      },
      "execution_count": null,
      "outputs": [
        {
          "output_type": "stream",
          "name": "stdout",
          "text": [
            "Введите число N: 4\n",
            "1\n",
            "2\n",
            "0\n",
            "-5\n",
            "1 2 1\n"
          ]
        }
      ]
    },
    {
      "cell_type": "markdown",
      "source": [
        "12 задача"
      ],
      "metadata": {
        "id": "EBdoNxs4yist"
      }
    },
    {
      "cell_type": "code",
      "source": [
        "def count_sheep(sheep_array):\n",
        "    return sheep_array.count(True)\n",
        "\n",
        "sheep_array = eval(input(\"Введите массив овец (например, [True, False, True]): \"))\n",
        "\n",
        "print(count_sheep(sheep_array))"
      ],
      "metadata": {
        "colab": {
          "base_uri": "https://localhost:8080/"
        },
        "id": "65T8mbC0yjye",
        "outputId": "085b48af-3d27-41d7-c87a-431c65efbfe2"
      },
      "execution_count": null,
      "outputs": [
        {
          "output_type": "stream",
          "name": "stdout",
          "text": [
            "Введите массив овец (например, [True, False, True]): [False, False, False]\n",
            "0\n"
          ]
        }
      ]
    },
    {
      "cell_type": "markdown",
      "source": [
        "13 задача"
      ],
      "metadata": {
        "id": "czzn0RfizVZa"
      }
    },
    {
      "cell_type": "code",
      "source": [
        "def transform(A, B):\n",
        "    steps = []\n",
        "    while A > B:\n",
        "        if A % 2 == 0:\n",
        "            A //= 2\n",
        "            steps.append(\":2\")\n",
        "        else:\n",
        "            A -= 1\n",
        "            steps.append(\"-1\")\n",
        "\n",
        "    for step in steps:\n",
        "        print(step)\n",
        "\n",
        "\n",
        "A, B = map(int, input(\"Введите два числа A и B (A > B): \").split())\n",
        "\n",
        "transform(A, B)"
      ],
      "metadata": {
        "colab": {
          "base_uri": "https://localhost:8080/"
        },
        "id": "TT5dM5Z9zWzL",
        "outputId": "eae94af7-378c-431e-cb1d-83cdf3719e77"
      },
      "execution_count": null,
      "outputs": [
        {
          "output_type": "stream",
          "name": "stdout",
          "text": [
            "Введите два числа A и B (A > B): 15 3\n",
            "-1\n",
            ":2\n",
            "-1\n",
            ":2\n"
          ]
        }
      ]
    },
    {
      "cell_type": "markdown",
      "source": [
        "14 задача"
      ],
      "metadata": {
        "id": "oQxM3mdO0NWZ"
      }
    }
  ]
}