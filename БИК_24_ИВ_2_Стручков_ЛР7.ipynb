{
  "nbformat": 4,
  "nbformat_minor": 0,
  "metadata": {
    "colab": {
      "provenance": [],
      "authorship_tag": "ABX9TyPh61s2ouiFPkYGr05Y9eDA",
      "include_colab_link": true
    },
    "kernelspec": {
      "name": "python3",
      "display_name": "Python 3"
    },
    "language_info": {
      "name": "python"
    }
  },
  "cells": [
    {
      "cell_type": "markdown",
      "metadata": {
        "id": "view-in-github",
        "colab_type": "text"
      },
      "source": [
        "<a href=\"https://colab.research.google.com/github/kirill123344/LB2/blob/main/%D0%91%D0%98%D0%9A_24_%D0%98%D0%92_2_%D0%A1%D1%82%D1%80%D1%83%D1%87%D0%BA%D0%BE%D0%B2_%D0%9B%D0%A07.ipynb\" target=\"_parent\"><img src=\"https://colab.research.google.com/assets/colab-badge.svg\" alt=\"Open In Colab\"/></a>"
      ]
    },
    {
      "cell_type": "markdown",
      "source": [
        "1 задача"
      ],
      "metadata": {
        "id": "XRstwwWaH_q9"
      }
    },
    {
      "cell_type": "code",
      "source": [
        "import numpy as np\n",
        "\n",
        "n = int(input(\"Введите размер матрицы (n): \"))\n",
        "\n",
        "if n <= 0:\n",
        "    print(\"Размер матрицы должен быть положительным числом!\")\n",
        "else:\n",
        "    matrix = [[j + i * n + 1 for j in range(n)] for i in range(n)]\n",
        "\n",
        "    print(\"Матрица:\")\n",
        "    for row in matrix:\n",
        "        print(row)\n",
        "\n",
        "    np_matrix = np.array(matrix)\n",
        "\n",
        "    determinant = round(np.linalg.det(np_matrix), 2)\n",
        "\n",
        "    print(f\"Определитель матрицы: {determinant}\")"
      ],
      "metadata": {
        "colab": {
          "base_uri": "https://localhost:8080/"
        },
        "id": "jquRdk5jICf-",
        "outputId": "6541ad14-fe8a-4445-b77c-6f16570cef4a"
      },
      "execution_count": 1,
      "outputs": [
        {
          "output_type": "stream",
          "name": "stdout",
          "text": [
            "Введите размер матрицы (n): 3\n",
            "Матрица:\n",
            "[1, 2, 3]\n",
            "[4, 5, 6]\n",
            "[7, 8, 9]\n",
            "Определитель матрицы: 0.0\n"
          ]
        }
      ]
    },
    {
      "cell_type": "markdown",
      "source": [
        "2 задача"
      ],
      "metadata": {
        "id": "V1tcZL_1IcWF"
      }
    },
    {
      "cell_type": "code",
      "source": [
        "data = [\n",
        "    ['ФИО', 'Баллы по программированию', 'Баллы по ОБЖ', 'Баллы по алгебре'],\n",
        "    ['Петров', 78, 93, 61],\n",
        "    ['Иванов', 56, 67, 73],\n",
        "    ['Сидорова', 81, 75, 70]\n",
        "]\n",
        "\n",
        "students = data[1:]\n",
        "subjects = data[0][1:]\n",
        "\n",
        "max_score = -1\n",
        "max_subject = ''\n",
        "max_subject_student = ''\n",
        "\n",
        "max_avg_score = -1\n",
        "max_avg_student = ''\n",
        "\n",
        "for student in students:\n",
        "    total_score = 0\n",
        "    for i, score in enumerate(student[1:]):\n",
        "        total_score += score\n",
        "        if score > max_score:\n",
        "            max_score = score\n",
        "            max_subject = subjects[i]\n",
        "            max_subject_student = student[0]\n",
        "    avg_score = total_score / len(subjects)\n",
        "    if avg_score > max_avg_score:\n",
        "        max_avg_score = avg_score\n",
        "        max_avg_student = student[0]\n",
        "\n",
        "print(f\"Самый высокий балл: {max_score}\")\n",
        "print(f\"Предмет: {max_subject}\")\n",
        "print(f\"Ученик с этим баллом: {max_subject_student}\")\n",
        "print(f\"Ученик с самым высоким средним баллом: {max_avg_student} ({max_avg_score:.2f})\")\n"
      ],
      "metadata": {
        "colab": {
          "base_uri": "https://localhost:8080/"
        },
        "id": "HQgrgwWIId9a",
        "outputId": "75511cbe-41d4-4105-9c86-6c31cb36063d"
      },
      "execution_count": 2,
      "outputs": [
        {
          "output_type": "stream",
          "name": "stdout",
          "text": [
            "Самый высокий балл: 93\n",
            "Предмет: Баллы по ОБЖ\n",
            "Ученик с этим баллом: Петров\n",
            "Ученик с самым высоким средним баллом: Петров (77.33)\n"
          ]
        }
      ]
    }
  ]
}