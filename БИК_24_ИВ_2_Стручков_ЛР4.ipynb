{
  "nbformat": 4,
  "nbformat_minor": 0,
  "metadata": {
    "colab": {
      "provenance": [],
      "authorship_tag": "ABX9TyOECv1TZ1HmpU+jjVbge7bx",
      "include_colab_link": true
    },
    "kernelspec": {
      "name": "python3",
      "display_name": "Python 3"
    },
    "language_info": {
      "name": "python"
    }
  },
  "cells": [
    {
      "cell_type": "markdown",
      "metadata": {
        "id": "view-in-github",
        "colab_type": "text"
      },
      "source": [
        "<a href=\"https://colab.research.google.com/github/kirill123344/LB2/blob/main/%D0%91%D0%98%D0%9A_24_%D0%98%D0%92_2_%D0%A1%D1%82%D1%80%D1%83%D1%87%D0%BA%D0%BE%D0%B2_%D0%9B%D0%A04.ipynb\" target=\"_parent\"><img src=\"https://colab.research.google.com/assets/colab-badge.svg\" alt=\"Open In Colab\"/></a>"
      ]
    },
    {
      "cell_type": "code",
      "execution_count": null,
      "metadata": {
        "id": "fMvnlqFrHGqO"
      },
      "outputs": [],
      "source": []
    },
    {
      "cell_type": "markdown",
      "source": [],
      "metadata": {
        "id": "2tQZhyxeLbt1"
      }
    },
    {
      "cell_type": "code",
      "source": [
        "a = int(input())\n",
        "match a:\n",
        "  case 405:\n",
        "    print(\"ошибочный запрос\")\n",
        "  case 404:\n",
        "    print(\" ошибочное действие\")\n",
        "  case 403:\n",
        "    print(\"ошибочный поиск\")\n",
        "  case 402:\n",
        "    print(\"ошибочная строка\")\n",
        "  case 401:\n",
        "    print(\"ошибика\")\n",
        "  case 400:\n",
        "    print(\"ошибочное введение\")\n",
        "  case _:\n",
        "    print(\"шрек\")\n",
        ""
      ],
      "metadata": {
        "colab": {
          "base_uri": "https://localhost:8080/"
        },
        "id": "6Z7DUduWLa1N",
        "outputId": "061b84c9-7df6-41f4-9212-5017c77da29e"
      },
      "execution_count": 3,
      "outputs": [
        {
          "output_type": "stream",
          "name": "stdout",
          "text": [
            "500\n",
            "шрек\n"
          ]
        }
      ]
    },
    {
      "cell_type": "markdown",
      "source": [
        "С клавиатуры вводятся два числа-координаты точки х и у. Определите в какой четверти координатной плоскости лежит точка. При решении задачи следует использовать условные конструкции."
      ],
      "metadata": {
        "id": "TK0NGF2sQLiv"
      }
    },
    {
      "cell_type": "code",
      "source": [
        "a = int(input())\n",
        "c = int(input())\n",
        "if (a > 0 and c > 0):\n",
        "  print(\"tochka v pervoi chetverty\")\n",
        "if ( a < 0 and c > 0):\n",
        "  print(\"tochka vo vtoroi chetverty\")\n",
        "if ( a < 0 and c < 0):\n",
        "  print(\"tochka v tret'ei chetverty\")\n",
        "if ( a > 0 and c < 0):\n",
        "  print(\"vveditre chislo\")"
      ],
      "metadata": {
        "colab": {
          "base_uri": "https://localhost:8080/"
        },
        "id": "PB2TtkslQrcy",
        "outputId": "90790235-8b4c-46e4-ee76-515b8c7ce4f3"
      },
      "execution_count": 7,
      "outputs": [
        {
          "output_type": "stream",
          "name": "stdout",
          "text": [
            "21\n",
            "24\n",
            "tochka v pervoi chetverty\n"
          ]
        }
      ]
    },
    {
      "cell_type": "markdown",
      "source": [
        "С Клавиатуры вводится год. Определите, является ли год високосным. Если год високосный, выведите ДА, инчае выведите нет. Високосным считается год, кратный четырем без остатка, но если это первый год столетия(1700,1800), то он должен быть кратен 400 без остатка"
      ],
      "metadata": {
        "id": "HSBIDTtMTNyw"
      }
    },
    {
      "cell_type": "code",
      "source": [
        "a = int(input(\"vvedite God chisla:\"))\n",
        "if (a % 4 != 0):\n",
        "  print(\"god ne iavliaetsya visokosnum\")\n",
        "elif (a % 100 ==0 and a % 400 == 0):\n",
        "  print(\"god iavliaetsya visokosnum\")\n",
        "else:\n",
        "  print(\"god iavlyaetsa visokosnum\")\n",
        "\n",
        "\n",
        ""
      ],
      "metadata": {
        "colab": {
          "base_uri": "https://localhost:8080/"
        },
        "id": "Tf1StAagUPJv",
        "outputId": "e309d25b-3b05-4834-e834-ba9160552e0a"
      },
      "execution_count": 23,
      "outputs": [
        {
          "output_type": "stream",
          "name": "stdout",
          "text": [
            "vvedite God chisla:2024\n",
            "god iavlyaetsa visokosnum\n"
          ]
        }
      ]
    }
  ]
}