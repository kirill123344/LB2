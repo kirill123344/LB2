{
  "nbformat": 4,
  "nbformat_minor": 0,
  "metadata": {
    "colab": {
      "provenance": [],
      "authorship_tag": "ABX9TyMnfLh3I7uHpa5sE8CHHsMw",
      "include_colab_link": true
    },
    "kernelspec": {
      "name": "python3",
      "display_name": "Python 3"
    },
    "language_info": {
      "name": "python"
    }
  },
  "cells": [
    {
      "cell_type": "markdown",
      "metadata": {
        "id": "view-in-github",
        "colab_type": "text"
      },
      "source": [
        "<a href=\"https://colab.research.google.com/github/kirill123344/LB2/blob/main/%D0%91%D0%98%D0%9A_24_%D0%98%D0%92_2_%D0%A1%D1%82%D1%80%D1%83%D1%87%D0%BA%D0%BE%D0%B2_%D0%9B%D0%A05.ipynb\" target=\"_parent\"><img src=\"https://colab.research.google.com/assets/colab-badge.svg\" alt=\"Open In Colab\"/></a>"
      ]
    },
    {
      "cell_type": "markdown",
      "source": [],
      "metadata": {
        "id": "7X0FA9mbR-Hz"
      }
    },
    {
      "cell_type": "markdown",
      "source": [
        "Программа считывает числа с клавиатуры, пока не введен 0. После окончания ввода программа возвращает список, состоящий только из тех введенных чисел, которые больше 2, но меньше 5"
      ],
      "metadata": {
        "id": "vhVrOgDbSABe"
      }
    },
    {
      "cell_type": "code",
      "source": [
        "from ast import main\n",
        "arr=[]\n",
        "while True:\n",
        "  f = float(input())\n",
        "  if f == 0:\n",
        "    break\n",
        "\n",
        "  if 2 < f <5:\n",
        "    arr.append(f)\n",
        "print(\"chisla\", arr)\n",
        "\n",
        "\n"
      ],
      "metadata": {
        "colab": {
          "base_uri": "https://localhost:8080/"
        },
        "id": "orBXcsf7R_Dt",
        "outputId": "9a2d99a5-d033-498e-ac7d-86c355ce88be"
      },
      "execution_count": null,
      "outputs": [
        {
          "output_type": "stream",
          "name": "stdout",
          "text": [
            "9\n",
            "8\n",
            "7\n",
            "6\n",
            "5\n",
            "4\n",
            "3\n",
            "2\n",
            "1\n",
            "0\n",
            "chisla [4.0, 3.0]\n"
          ]
        }
      ]
    },
    {
      "cell_type": "markdown",
      "source": [
        "Модифицируйте предыдыщую программу таким образом, чтобы найти среднее введенной ранее последовательности. Формула среднего"
      ],
      "metadata": {
        "id": "9sW3brWoYRNP"
      }
    },
    {
      "cell_type": "code",
      "source": [
        "from ast import main\n",
        "arr = []\n",
        "while\n",
        "  f = float(input())\n",
        "  if f ==0:\n",
        "    continue\n",
        "  if len(arr) == 0:\n",
        "    arr.append(f)\n",
        "\n"
      ],
      "metadata": {
        "id": "hGdmsvlHYll9"
      },
      "execution_count": null,
      "outputs": []
    }
  ]
}