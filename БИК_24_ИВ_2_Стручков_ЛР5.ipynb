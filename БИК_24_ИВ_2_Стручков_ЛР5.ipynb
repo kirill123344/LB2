{
  "nbformat": 4,
  "nbformat_minor": 0,
  "metadata": {
    "colab": {
      "provenance": [],
      "authorship_tag": "ABX9TyMa7ZBY6prFgsT2EdoTtw0c",
      "include_colab_link": true
    },
    "kernelspec": {
      "name": "python3",
      "display_name": "Python 3"
    },
    "language_info": {
      "name": "python"
    }
  },
  "cells": [
    {
      "cell_type": "markdown",
      "metadata": {
        "id": "view-in-github",
        "colab_type": "text"
      },
      "source": [
        "<a href=\"https://colab.research.google.com/github/kirill123344/LB2/blob/main/%D0%91%D0%98%D0%9A_24_%D0%98%D0%92_2_%D0%A1%D1%82%D1%80%D1%83%D1%87%D0%BA%D0%BE%D0%B2_%D0%9B%D0%A05.ipynb\" target=\"_parent\"><img src=\"https://colab.research.google.com/assets/colab-badge.svg\" alt=\"Open In Colab\"/></a>"
      ]
    },
    {
      "cell_type": "code",
      "source": [
        "a = int(input(\"Введите значение a: \"))\n",
        "b = int(input(\"Введите значение b: \"))\n",
        "\n",
        "if a > b:\n",
        "    print(\"Ошибка: a должно быть меньше или равно m.\")\n",
        "else:\n",
        "    total = (b * (b + 1)) // 2 - ((a - 1) * a) // 2\n",
        "    print(f\"Сумма чисел от {a} до {b} равна {total}\")\n"
      ],
      "metadata": {
        "colab": {
          "base_uri": "https://localhost:8080/"
        },
        "id": "Mpy1YmO6-5Bx",
        "outputId": "74d9d6a1-8b68-46b1-d460-79de1e4b0192"
      },
      "execution_count": 7,
      "outputs": [
        {
          "output_type": "stream",
          "name": "stdout",
          "text": [
            "Введите значение a: 3\n",
            "Введите значение b: 7\n",
            "Сумма чисел от 3 до 7 равна 25\n"
          ]
        }
      ]
    },
    {
      "cell_type": "markdown",
      "source": [
        " Напишите программу, которая бы вычисляла сумму чисел с n до m. Числа n и m вводятся с клавиатуры."
      ],
      "metadata": {
        "id": "BNSLa1II_zYU"
      }
    },
    {
      "cell_type": "code",
      "source": [
        "while True:\n",
        "    a = int(input(\"Введите число a: \"))\n",
        "    b = int(input(\"Введите число b: \"))\n",
        "\n",
        "    if a == b:\n",
        "        print(\"Завершение, так как: a и b равны.\")\n",
        "        break\n",
        "\n",
        "    result = a + b\n",
        "    print(f\"Сумма чисел {a} и {b} равна {result}\")\n"
      ],
      "metadata": {
        "colab": {
          "base_uri": "https://localhost:8080/"
        },
        "id": "_YP6neyZ_0V0",
        "outputId": "8504ec31-9006-4b0b-809a-f41ae565968d"
      },
      "execution_count": 10,
      "outputs": [
        {
          "output_type": "stream",
          "name": "stdout",
          "text": [
            "Введите число a: 2\n",
            "Введите число b: 6\n",
            "Сумма чисел 2 и 6 равна 8\n",
            "Введите число a: 2\n",
            "Введите число b: 2\n",
            "Завершение, так как: a и b равны.\n"
          ]
        }
      ]
    },
    {
      "cell_type": "markdown",
      "source": [
        "Напишите программу, которая принимает на вход два числа n и m и вычисляет сумму этих чисел. Программа принимает числа и выводит результат до тех пор, пока пользователь не введет такую комбинацию чисел, что n=m"
      ],
      "metadata": {
        "id": "_TQ6lhHnAVzx"
      }
    }
  ]
}