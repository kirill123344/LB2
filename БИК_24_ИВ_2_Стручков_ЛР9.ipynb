{
  "nbformat": 4,
  "nbformat_minor": 0,
  "metadata": {
    "colab": {
      "provenance": [],
      "authorship_tag": "ABX9TyP1uqMN0xnuKzTE35YfkY7Q",
      "include_colab_link": true
    },
    "kernelspec": {
      "name": "python3",
      "display_name": "Python 3"
    },
    "language_info": {
      "name": "python"
    }
  },
  "cells": [
    {
      "cell_type": "markdown",
      "metadata": {
        "id": "view-in-github",
        "colab_type": "text"
      },
      "source": [
        "<a href=\"https://colab.research.google.com/github/kirill123344/LB2/blob/main/%D0%91%D0%98%D0%9A_24_%D0%98%D0%92_2_%D0%A1%D1%82%D1%80%D1%83%D1%87%D0%BA%D0%BE%D0%B2_%D0%9B%D0%A09.ipynb\" target=\"_parent\"><img src=\"https://colab.research.google.com/assets/colab-badge.svg\" alt=\"Open In Colab\"/></a>"
      ]
    },
    {
      "cell_type": "code",
      "execution_count": 1,
      "metadata": {
        "colab": {
          "base_uri": "https://localhost:8080/"
        },
        "id": "E9zf5TSrlQH-",
        "outputId": "0729d0d4-9168-40c9-ac33-6aa0e9019f53"
      },
      "outputs": [
        {
          "output_type": "stream",
          "name": "stdout",
          "text": [
            "Введите число (0 для завершения): 2\n",
            "Введите число (0 для завершения): 2\n",
            "Введите число (0 для завершения): 5\n",
            "Введите число (0 для завершения): 34\n",
            "Введите число (0 для завершения): 9999\n",
            "Введите число (0 для завершения): 7\n",
            "Введите число (0 для завершения): 0\n",
            "Словарь с количеством вхождений: {2: 2, 5: 1, 34: 1, 9999: 1, 7: 1}\n",
            "Список уникальных значений: [2, 5, 34, 9999, 7]\n"
          ]
        }
      ],
      "source": [
        "count_dict = {}\n",
        "unique_values = []\n",
        "while True:\n",
        "    num = int(input(\"Введите число (0 для завершения): \"))\n",
        "    if num == 0:\n",
        "        break\n",
        "    count_dict[num] = count_dict.get(num, 0) + 1\n",
        "\n",
        "unique_values = list(count_dict.keys())\n",
        "\n",
        "print(\"Словарь с количеством вхождений:\", count_dict)\n",
        "print(\"Список уникальных значений:\", unique_values)\n",
        "5"
      ]
    },
    {
      "cell_type": "markdown",
      "source": [
        "С клавиатуры вводятся числа. Ввод считывается до тех пор, пока не введен 0. Необходимо вернуть:\n",
        "1. Словарь, в котором ключами являются введенные значения, а значениями - сколько раз такое значение встретилось в последовательности.\n",
        "2. Список уникальных введенных значений\n"
      ],
      "metadata": {
        "id": "FJmqoRitmVts"
      }
    },
    {
      "cell_type": "code",
      "source": [
        "phonebook = {}\n",
        "while True:\n",
        "    command = input(\"Введите 'add', чтобы добавить запись, 'who', чтобы узнать номер, или 'exit' для выхода: \").strip().lower()\n",
        "\n",
        "    if command == \"add\":\n",
        "        name = input(\"Введите имя: \").strip()\n",
        "        phone = input(\"Введите номер: \").strip()\n",
        "        if name in phonebook:\n",
        "            print(f\"Запись с именем '{name}' уже существует. Заменить номер? (yes/no)\")\n",
        "            confirm = input().strip().lower()\n",
        "            if confirm != \"yes\":\n",
        "                print(\"Добавление отменено.\")\n",
        "                continue\n",
        "        phonebook[name] = phone\n",
        "        print(f'Добавлена запись \"{name}\": \"{phone}\"')\n",
        "\n",
        "    elif command == \"who\":\n",
        "        name = input(\"Введите имя: \").strip()\n",
        "        if name in phonebook:\n",
        "            print(f'Номер телефона для \"{name}\": {phonebook[name]}')\n",
        "        else:\n",
        "            print(f'Запись с именем \"{name}\" не найдена.')\n",
        "\n",
        "    elif command == \"exit\":\n",
        "        print(\"Выход из телефонной книги.\")\n",
        "        break\n",
        "\n",
        "    else:\n",
        "        print(\"Неизвестная команда. Пожалуйста, введите 'add', 'who' или 'exit'.\")\n"
      ],
      "metadata": {
        "colab": {
          "base_uri": "https://localhost:8080/"
        },
        "id": "NudStV2imZAh",
        "outputId": "a103cfba-cc52-4ae7-d163-e6ba65cb3f5d"
      },
      "execution_count": 3,
      "outputs": [
        {
          "output_type": "stream",
          "name": "stdout",
          "text": [
            "Введите 'add', чтобы добавить запись, 'who', чтобы узнать номер, или 'exit' для выхода: add\n",
            "Введите имя: кирилл\n",
            "Введите номер: 7914248593\n",
            "Добавлена запись \"кирилл\": \"7914248593\"\n",
            "Введите 'add', чтобы добавить запись, 'who', чтобы узнать номер, или 'exit' для выхода: exit\n",
            "Выход из телефонной книги.\n"
          ]
        }
      ]
    },
    {
      "cell_type": "markdown",
      "source": [
        "Реализуйте электронную телефонную книгу. У телефонной книги должно быть две функции:\n",
        "1. Добавить новую запись\n",
        "2. Узнать номер телефона по имени\n"
      ],
      "metadata": {
        "id": "_9dJ3iraoykw"
      }
    }
  ]
}