{
  "nbformat": 4,
  "nbformat_minor": 0,
  "metadata": {
    "colab": {
      "provenance": [],
      "authorship_tag": "ABX9TyPJX8gKUh+ESvyps3fRQoSU",
      "include_colab_link": true
    },
    "kernelspec": {
      "name": "python3",
      "display_name": "Python 3"
    },
    "language_info": {
      "name": "python"
    }
  },
  "cells": [
    {
      "cell_type": "markdown",
      "metadata": {
        "id": "view-in-github",
        "colab_type": "text"
      },
      "source": [
        "<a href=\"https://colab.research.google.com/github/kirill123344/LB2/blob/main/%D0%B7%D0%B0%D0%B4%D0%B0%D1%87%D0%B8_%D1%81_%D0%BF%D1%80%D0%B0%D0%BA%D1%82%D0%B8%D0%BA%D0%91%D0%98%D0%9A_24_%D0%A1%D1%82%D1%80%D1%83%D0%BA%D1%87%D0%BE%D0%B2%D0%9A%D0%95.ipynb\" target=\"_parent\"><img src=\"https://colab.research.google.com/assets/colab-badge.svg\" alt=\"Open In Colab\"/></a>"
      ]
    },
    {
      "cell_type": "markdown",
      "source": [
        "БИК-24-ИВ-2-Стручков_ЛР2.ipynb"
      ],
      "metadata": {
        "id": "Rzs7TNkFjuYt"
      }
    },
    {
      "cell_type": "code",
      "source": [
        "a = 20\n",
        "b = 14\n",
        "c = a*b/2\n",
        "print(c)\n",
        ""
      ],
      "metadata": {
        "colab": {
          "base_uri": "https://localhost:8080/"
        },
        "id": "kes44yf5jvBR",
        "outputId": "35ab5c55-b09e-437d-e4ca-fabe2245ccc1"
      },
      "execution_count": 1,
      "outputs": [
        {
          "output_type": "stream",
          "name": "stdout",
          "text": [
            "140.0\n"
          ]
        }
      ]
    },
    {
      "cell_type": "markdown",
      "source": [
        "Дан прямоугольный треугольник со сторонами a и b. Найти его площадь. Длины сторон задаются самостоятельн\n"
      ],
      "metadata": {
        "id": "CVJusZAkj3F4"
      }
    },
    {
      "cell_type": "code",
      "source": [
        "from random import*\n",
        "n=randint(100,1000)\n",
        "print(n)\n",
        "print(n//100,n//10%10,n%10)"
      ],
      "metadata": {
        "colab": {
          "base_uri": "https://localhost:8080/"
        },
        "id": "3Qre0EEBj7w0",
        "outputId": "f86e7786-e96e-4ae7-e5f5-8527d47a4d3f"
      },
      "execution_count": 3,
      "outputs": [
        {
          "output_type": "stream",
          "name": "stdout",
          "text": [
            "566\n",
            "5 6 6\n"
          ]
        }
      ]
    },
    {
      "cell_type": "markdown",
      "source": [
        "Дано трехзначное число. Вывести его цифры. Можно использовать ТОЛЬКО арифметические операции.\n"
      ],
      "metadata": {
        "id": "dkiJlNbmkENb"
      }
    },
    {
      "cell_type": "code",
      "source": [
        "n = int(input(\"Введите количество секунд: \"))\n",
        "\n",
        "hh = (n // 3600) % 24\n",
        "mm = (n % 3600) // 60\n",
        "ss = n % 60\n",
        "\n",
        "print(f\"Время сейчас {hh:02}:{mm:02}:{ss:02}\")"
      ],
      "metadata": {
        "colab": {
          "base_uri": "https://localhost:8080/"
        },
        "id": "hmWpKF9hkEue",
        "outputId": "9a643821-5ebd-4ced-e529-ffc285e776ec"
      },
      "execution_count": 4,
      "outputs": [
        {
          "output_type": "stream",
          "name": "stdout",
          "text": [
            "Введите количество секунд: 3123\n",
            "Время сейчас 00:52:03\n"
          ]
        }
      ]
    },
    {
      "cell_type": "markdown",
      "source": [
        "Дано количество секунд n. Вывести время в формате \"Сейчас hh:mm:ss\". Использовать ТОЛЬКО арифметические операции. Рекомендуется использовать форматированный вывод.\n"
      ],
      "metadata": {
        "id": "LpA4VB1CkJkx"
      }
    },
    {
      "cell_type": "markdown",
      "source": [
        "БИК_24_ИВ_2_Стручков_ЛР3.ipynb"
      ],
      "metadata": {
        "id": "ATpqXwjjkKOK"
      }
    },
    {
      "cell_type": "code",
      "source": [
        "a = input(\"введите строку: \")\n",
        "\n",
        "substrings = a.split(',')\n",
        "\n",
        "lengths = [len(substring) for substring in substrings]\n",
        "\n",
        "print(','. join(map(str, lengths)))"
      ],
      "metadata": {
        "colab": {
          "base_uri": "https://localhost:8080/"
        },
        "id": "xKBgHMrCkQfQ",
        "outputId": "221a0b3a-8185-4818-d1f0-c37a2809ecbe"
      },
      "execution_count": 5,
      "outputs": [
        {
          "output_type": "stream",
          "name": "stdout",
          "text": [
            "введите строку: абв,абвг,вбгд,абд\n",
            "3,4,4,3\n"
          ]
        }
      ]
    },
    {
      "cell_type": "markdown",
      "source": [
        "Дан набор символов определенной длины. Известно, что между символами есть запятые. Найти длину каждой каждой последовательности символов отделенных запятыми. Пример: абв,абвг,вбгд,абд Ответ: 3,4,4,3"
      ],
      "metadata": {
        "id": "2yqWg3LlkVSW"
      }
    },
    {
      "cell_type": "code",
      "source": [
        "stroka = input(\"Введите строку: \")\n",
        "a = int(input(\"Введите индекс a: \"))\n",
        "b = int(input(\"Введите индекс b: \"))\n",
        "\n",
        "words = ''.join(char if char.isalnum() or char.isspace() else '' for char in stroka).split()\n",
        "\n",
        "array_to_a = words[:a]\n",
        "\n",
        "array_from_b = words[b:]\n",
        "\n",
        "print(array_to_a, array_from_b)"
      ],
      "metadata": {
        "colab": {
          "base_uri": "https://localhost:8080/"
        },
        "id": "3PNuGKGYkXez",
        "outputId": "d63be641-0dc4-4385-ceb8-ce03d04c9db5"
      },
      "execution_count": 6,
      "outputs": [
        {
          "output_type": "stream",
          "name": "stdout",
          "text": [
            "Введите строку: Привет, мир\n",
            "Введите индекс a: 8\n",
            "Введите индекс b: 5\n",
            "['Привет', 'мир'] []\n"
          ]
        }
      ]
    },
    {
      "cell_type": "markdown",
      "source": [
        "Даны две переменные и строка: n, m, stroka. Необходимо вывести массив слов с первого элемента строки до элемента n и массив слов с элемента m до конца строки. Массив слов - это набор слов без любых других символов и пробелов. Пример: stroka = Привет, мир n = 8, m = 5, Ответ: [\"Привет\"], [\"т\", \"мир\"]"
      ],
      "metadata": {
        "id": "CTWu4x41kgjA"
      }
    },
    {
      "cell_type": "markdown",
      "source": [
        "БИК_24_ИВ_2_Стручков_ЛР4.ipynb"
      ],
      "metadata": {
        "id": "Qt0kvGFakheF"
      }
    },
    {
      "cell_type": "code",
      "source": [
        "a = int(input())\n",
        "match a:\n",
        "  case 405:\n",
        "    print(\"ошибочный запрос\")\n",
        "  case 404:\n",
        "    print(\" ошибочное действие\")\n",
        "  case 403:\n",
        "    print(\"ошибочный поиск\")\n",
        "  case 402:\n",
        "    print(\"ошибочная строка\")\n",
        "  case 401:\n",
        "    print(\"ошибика\")\n",
        "  case 400:\n",
        "    print(\"ошибочное введение\")\n",
        "  case _:\n",
        "    print(\"шрек\")"
      ],
      "metadata": {
        "colab": {
          "base_uri": "https://localhost:8080/"
        },
        "id": "7RYKTQhvkjkS",
        "outputId": "b07d43ed-2f55-4de7-fced-662d6a66c07a"
      },
      "execution_count": 7,
      "outputs": [
        {
          "output_type": "stream",
          "name": "stdout",
          "text": [
            "500\n",
            "шрек\n"
          ]
        }
      ]
    },
    {
      "cell_type": "markdown",
      "source": [
        "Найдите все коды ошибок веб-браузера от 400 до 405. Код ошибки вводится с клавиатуры и программа выводит описание соответствующего кода ошибки. Для решения задачи используйте конструкцию match case.\n"
      ],
      "metadata": {
        "id": "wYZnCYUpkvXH"
      }
    },
    {
      "cell_type": "code",
      "source": [
        "a = int(input())\n",
        "c = int(input())\n",
        "if (a > 0 and c > 0):\n",
        "  print(\"tochka v pervoi chetverty\")\n",
        "if ( a < 0 and c > 0):\n",
        "  print(\"tochka vo vtoroi chetverty\")\n",
        "if ( a < 0 and c < 0):\n",
        "  print(\"tochka v tret'ei chetverty\")\n",
        "if ( a > 0 and c < 0):\n",
        "  print(\"vveditre chislo\")"
      ],
      "metadata": {
        "colab": {
          "base_uri": "https://localhost:8080/"
        },
        "id": "p2byi1MBkxXc",
        "outputId": "72447744-94f2-4646-a4fb-7f1135622126"
      },
      "execution_count": 8,
      "outputs": [
        {
          "output_type": "stream",
          "name": "stdout",
          "text": [
            "21\n",
            "24\n",
            "tochka v pervoi chetverty\n"
          ]
        }
      ]
    },
    {
      "cell_type": "markdown",
      "source": [
        "С Клавиатуры вводится год. Определите, является ли год високосным. Если год високосный, выведите ДА, инчае выведите нет. Високосным считается год, кратный четырем без остатка, но если это первый год столетия(1700,1800), то он должен быть кратен 400 без остатка"
      ],
      "metadata": {
        "id": "MynP7wgTk2Mi"
      }
    },
    {
      "cell_type": "code",
      "source": [
        "a = int(input(\"vvedite God chisla:\"))\n",
        "if (a % 4 != 0):\n",
        "  print(\"No\")\n",
        "elif (a % 100 ==0 and a % 400 == 0):\n",
        "  print(\"Yes\")\n",
        "else:\n",
        "  print(\"Yes\")"
      ],
      "metadata": {
        "colab": {
          "base_uri": "https://localhost:8080/"
        },
        "id": "U9RyBmuNk2ck",
        "outputId": "3e9c6b0b-139c-44d7-f61e-2e603f3502ac"
      },
      "execution_count": 13,
      "outputs": [
        {
          "output_type": "stream",
          "name": "stdout",
          "text": [
            "vvedite God chisla:2024\n",
            "Yes\n"
          ]
        }
      ]
    },
    {
      "cell_type": "markdown",
      "source": [
        "С клавиатуры вводится год. Определите, является ли год високосным. Если год високосный, выведите \"ДА\", иначе выведите \"НЕТ\". Високосным считается год, кратный четырем без остатка, но если это первый год столетия (1700, 1800), то он должен быть кратен 400 без остатка\n"
      ],
      "metadata": {
        "id": "HcMtbqKtlQ3O"
      }
    },
    {
      "cell_type": "markdown",
      "source": [
        "БИК_24_ИВ_2_Стручков_ЛР5.ipynb"
      ],
      "metadata": {
        "id": "92uyviFzlUju"
      }
    },
    {
      "cell_type": "code",
      "source": [
        "a = int(input(\"Введите значение a: \"))\n",
        "b = int(input(\"Введите значение b: \"))\n",
        "\n",
        "if a > b:\n",
        "    print(\"Ошибка: a должно быть меньше или равно m.\")\n",
        "else:\n",
        "    total = (b * (b + 1)) // 2 - ((a - 1) * a) // 2\n",
        "    print(f\"Сумма чисел от {a} до {b} равна {total}\")"
      ],
      "metadata": {
        "colab": {
          "base_uri": "https://localhost:8080/"
        },
        "id": "s5O8d7cAnTfo",
        "outputId": "47e5144c-7382-49cf-c27c-84f38a2fbae1"
      },
      "execution_count": 14,
      "outputs": [
        {
          "output_type": "stream",
          "name": "stdout",
          "text": [
            "Введите значение a: 3\n",
            "Введите значение b: 7\n",
            "Сумма чисел от 3 до 7 равна 25\n"
          ]
        }
      ]
    },
    {
      "cell_type": "markdown",
      "source": [
        "Напишите программу, которая бы вычисляла сумму чисел с n до m. Числа n и m вводятся с клавиатуры."
      ],
      "metadata": {
        "id": "hcFEj6AsnZyX"
      }
    },
    {
      "cell_type": "code",
      "source": [
        "while True:\n",
        "    a = int(input(\"Введите число a: \"))\n",
        "    b = int(input(\"Введите число b: \"))\n",
        "\n",
        "    if a == b:\n",
        "        print(\"Завершение, так как: a и b равны.\")\n",
        "        break\n",
        "\n",
        "    result = a + b\n",
        "    print(f\"Сумма чисел {a} и {b} равна {result}\")"
      ],
      "metadata": {
        "colab": {
          "base_uri": "https://localhost:8080/"
        },
        "id": "ZccixOkpna58",
        "outputId": "55c80be9-5a77-4a0c-cef8-70ae6eacadd1"
      },
      "execution_count": 15,
      "outputs": [
        {
          "output_type": "stream",
          "name": "stdout",
          "text": [
            "Введите число a: 2\n",
            "Введите число b: 6\n",
            "Сумма чисел 2 и 6 равна 8\n",
            "Введите число a: 2\n",
            "Введите число b: 2\n",
            "Завершение, так как: a и b равны.\n"
          ]
        }
      ]
    },
    {
      "cell_type": "markdown",
      "source": [
        "Напишите программу, которая принимает на вход два числа n и m и вычисляет сумму этих чисел. Программа принимает числа и выводит результат до тех пор, пока пользователь не введет такую комбинацию чисел, что n=m.\n"
      ],
      "metadata": {
        "id": "J2PtJ0X2njAR"
      }
    },
    {
      "cell_type": "markdown",
      "source": [
        "БИК_24_ИВ_2_Стручков_ЛР6.ipynb"
      ],
      "metadata": {
        "id": "1Q3ilOW9nmBo"
      }
    },
    {
      "cell_type": "code",
      "source": [
        "numbers = []\n",
        "squares = []\n",
        "cubes = []\n",
        "\n",
        "for i in range(1, 11):\n",
        "    numbers.append(i)\n",
        "    squares.append(i**2)\n",
        "    cubes.append(i**3)\n",
        "\n",
        "print(\"Числа:\", numbers)\n",
        "print(\"Квадраты:\", squares)\n",
        "print(\"Кубы:\", cubes)\n"
      ],
      "metadata": {
        "colab": {
          "base_uri": "https://localhost:8080/"
        },
        "id": "AUKrqF8SnsC_",
        "outputId": "c11e2c3a-a92e-4bf7-b488-b0916052683e"
      },
      "execution_count": 16,
      "outputs": [
        {
          "output_type": "stream",
          "name": "stdout",
          "text": [
            "Числа: [1, 2, 3, 4, 5, 6, 7, 8, 9, 10]\n",
            "Квадраты: [1, 4, 9, 16, 25, 36, 49, 64, 81, 100]\n",
            "Кубы: [1, 8, 27, 64, 125, 216, 343, 512, 729, 1000]\n"
          ]
        }
      ]
    },
    {
      "cell_type": "markdown",
      "source": [
        "Задание 1\n",
        "Напишите программу, которая с помощью цикла создает список чисел от 1 до 10, а также списки их квадратов и кубов. В конце необходимо вывести три соответствующих списка.\n"
      ],
      "metadata": {
        "id": "22We4v3HnuOP"
      }
    },
    {
      "cell_type": "code",
      "source": [
        "numbers = []\n",
        "\n",
        "while True:\n",
        "    num = int(input(\"Введите число (0 для завершения): \"))\n",
        "    if num == 0:\n",
        "        break\n",
        "    numbers.append(num)\n",
        "\n",
        "if not numbers:\n",
        "    print(\"Список пуст. Нет данных для анализа.\")\n",
        "else:\n",
        "    min_value = min(numbers)\n",
        "\n",
        "    max_value = max(numbers)\n",
        "\n",
        "    sorted_asc = sorted(numbers)\n",
        "\n",
        "    sorted_desc = sorted(numbers, reverse=True)\n",
        "\n",
        "    count = len(numbers)\n",
        "\n",
        "    count_ones = numbers.count(1)\n",
        "\n",
        "    # 7. Сумма всех чисел\n",
        "    total_sum = sum(numbers)\n",
        "\n",
        "    last_value = numbers[-1]\n",
        "    last_index = len(numbers) - 1\n",
        "\n",
        "    # Вывод результатов\n",
        "    print(f\"1. Минимальное значение: {min_value}\")\n",
        "    print(f\"2. Максимальное значение: {max_value}\")\n",
        "    print(f\"3. Список по возрастанию: {sorted_asc}\")\n",
        "    print(f\"4. Список по убыванию: {sorted_desc}\")\n",
        "    print(f\"5. Количество элементов в списке: {count}\")\n",
        "    print(f\"6. Количество единиц в списке: {count_ones}\")\n",
        "    print(f\"7. Сумма всех чисел: {total_sum}\")\n",
        "    print(f\"8. Последний введенный элемент: индекс {last_index}, значение {last_value}\")\n"
      ],
      "metadata": {
        "colab": {
          "base_uri": "https://localhost:8080/"
        },
        "id": "3pslIlKwn0c7",
        "outputId": "030b20ea-3852-474e-8a52-9d00e969a0e2"
      },
      "execution_count": 17,
      "outputs": [
        {
          "output_type": "stream",
          "name": "stdout",
          "text": [
            "Введите число (0 для завершения): 2\n",
            "Введите число (0 для завершения): 1\n",
            "Введите число (0 для завершения): 4\n",
            "Введите число (0 для завершения): 6\n",
            "Введите число (0 для завершения): 2\n",
            "Введите число (0 для завершения): 0\n",
            "1. Минимальное значение: 1\n",
            "2. Максимальное значение: 6\n",
            "3. Список по возрастанию: [1, 2, 2, 4, 6]\n",
            "4. Список по убыванию: [6, 4, 2, 2, 1]\n",
            "5. Количество элементов в списке: 5\n",
            "6. Количество единиц в списке: 1\n",
            "7. Сумма всех чисел: 15\n",
            "8. Последний введенный элемент: индекс 4, значение 2\n"
          ]
        }
      ]
    },
    {
      "cell_type": "markdown",
      "source": [
        "Задание 2\n",
        "С клавиатуры вводится список чисел до тех пор, пока не введен 0. После этого выведите:\n",
        "1. Минимальное значение введенной последовательности\n",
        "2. Максимальное значение введенной последовательности\n",
        "3. Отсортированный по возрастанию список\n",
        "4. Отсортированный по убыванию список\n",
        "5. Количество элементов в списке\n",
        "6. Количество единиц в списке\n",
        "7. Сумму всех чисел\n",
        "8. Индекс и значение последнего введенного элемента (не 0)\n"
      ],
      "metadata": {
        "id": "4uncJ2uHn_V7"
      }
    },
    {
      "cell_type": "code",
      "source": [
        "numbers = []\n",
        "while True:\n",
        "    num = int(input(\"Введите число (0 для завершения): \"))\n",
        "    if num == 0:\n",
        "        break\n",
        "    if num % 2 == 0:\n",
        "        numbers.append(num)\n",
        "filtered_numbers = [num for num in numbers if num % 10 != 0]\n",
        "print(\"Итоговый список:\", filtered_numbers)"
      ],
      "metadata": {
        "colab": {
          "base_uri": "https://localhost:8080/"
        },
        "id": "p9V5cvahoC0Z",
        "outputId": "30cf18d0-ea26-450f-c736-b91cb3575039"
      },
      "execution_count": 18,
      "outputs": [
        {
          "output_type": "stream",
          "name": "stdout",
          "text": [
            "Введите число (0 для завершения): 3\n",
            "Введите число (0 для завершения): 4\n",
            "Введите число (0 для завершения): 1\n",
            "Введите число (0 для завершения): 6\n",
            "Введите число (0 для завершения): 13\n",
            "Введите число (0 для завершения): 0\n",
            "Итоговый список: [4, 6]\n"
          ]
        }
      ]
    },
    {
      "cell_type": "markdown",
      "source": [
        "Дан пустой массив. С клавиатуры вводятся числа. Если число четное, то оно добавляется в конец массива, если нечетное - то не добавляется. Ввод происходит до тех пор, пока не введен ноль. После этого, необхоидмо удалить из массива все значения, которые кратны 10 и вывести итоговый список.\n"
      ],
      "metadata": {
        "id": "PAC1YhjaoJS9"
      }
    },
    {
      "cell_type": "markdown",
      "source": [
        "БИК_24_ИВ_2_Стручков_ЛР7.ipynb"
      ],
      "metadata": {
        "id": "0z0L-aXkoLrg"
      }
    },
    {
      "cell_type": "code",
      "source": [
        "import numpy as np\n",
        "\n",
        "n = int(input(\"Введите размер матрицы (n): \"))\n",
        "\n",
        "if n <= 0:\n",
        "    print(\"Размер матрицы должен быть положительным числом!\")\n",
        "else:\n",
        "    matrix = [[j + i * n + 1 for j in range(n)] for i in range(n)]\n",
        "\n",
        "    print(\"Матрица:\")\n",
        "    for row in matrix:\n",
        "        print(row)\n",
        "\n",
        "    np_matrix = np.array(matrix)\n",
        "\n",
        "    determinant = round(np.linalg.det(np_matrix), 2)\n",
        "\n",
        "    print(f\"Определитель матрицы: {determinant}\")"
      ],
      "metadata": {
        "colab": {
          "base_uri": "https://localhost:8080/"
        },
        "id": "iXcRP6xboRN6",
        "outputId": "be62982f-13f9-4094-bb23-ea17045dcb81"
      },
      "execution_count": 19,
      "outputs": [
        {
          "output_type": "stream",
          "name": "stdout",
          "text": [
            "Введите размер матрицы (n): 3\n",
            "Матрица:\n",
            "[1, 2, 3]\n",
            "[4, 5, 6]\n",
            "[7, 8, 9]\n",
            "Определитель матрицы: 0.0\n"
          ]
        }
      ]
    },
    {
      "cell_type": "markdown",
      "source": [
        "С клавиатуры вводится число n - количество строк и столбцов матрицы. Реализуйте матрицу размером n на n элементов из подряд идущих чисел. Например, для числа 2 исходной матрицей будет\n"
      ],
      "metadata": {
        "id": "ZbMpRVhioYcJ"
      }
    },
    {
      "cell_type": "code",
      "source": [
        "data = [\n",
        "    ['ФИО', 'Баллы по программированию', 'Баллы по ОБЖ', 'Баллы по алгебре'],\n",
        "    ['Петров', 78, 93, 61],\n",
        "    ['Иванов', 56, 67, 73],\n",
        "    ['Сидорова', 81, 75, 70]\n",
        "]\n",
        "\n",
        "students = data[1:]\n",
        "subjects = data[0][1:]\n",
        "\n",
        "max_score = -1\n",
        "max_subject = ''\n",
        "max_subject_student = ''\n",
        "\n",
        "max_avg_score = -1\n",
        "max_avg_student = ''\n",
        "\n",
        "for student in students:\n",
        "    total_score = 0\n",
        "    for i, score in enumerate(student[1:]):\n",
        "        total_score += score\n",
        "        if score > max_score:\n",
        "            max_score = score\n",
        "            max_subject = subjects[i]\n",
        "            max_subject_student = student[0]\n",
        "    avg_score = total_score / len(subjects)\n",
        "    if avg_score > max_avg_score:\n",
        "        max_avg_score = avg_score\n",
        "        max_avg_student = student[0]\n",
        "\n",
        "print(f\"Самый высокий балл: {max_score}\")\n",
        "print(f\"Предмет: {max_subject}\")\n",
        "print(f\"Ученик с этим баллом: {max_subject_student}\")\n",
        "print(f\"Ученик с самым высоким средним баллом: {max_avg_student} ({max_avg_score:.2f})\")\n"
      ],
      "metadata": {
        "colab": {
          "base_uri": "https://localhost:8080/"
        },
        "id": "juT-oy7MoZFQ",
        "outputId": "c88bdb59-bf99-43db-fa48-2f1e1069c833"
      },
      "execution_count": 20,
      "outputs": [
        {
          "output_type": "stream",
          "name": "stdout",
          "text": [
            "Самый высокий балл: 93\n",
            "Предмет: Баллы по ОБЖ\n",
            "Ученик с этим баллом: Петров\n",
            "Ученик с самым высоким средним баллом: Петров (77.33)\n"
          ]
        }
      ]
    },
    {
      "cell_type": "markdown",
      "source": [
        "Задание 2\n",
        "Дана таблица с данными об учениках и их успеваемости. Из таблички необходимо получить следующие данные:\n",
        "1. По какому предмету самый высокий средний балл?\n",
        "2. Кто из учеников больше других преуспевает по всем предметам (имеет самый высокий средний балл)?\n"
      ],
      "metadata": {
        "id": "IU-crLpKodH3"
      }
    },
    {
      "cell_type": "markdown",
      "source": [
        "БИК_24_ИВ_2_Стручков_ЛР9.ipynb"
      ],
      "metadata": {
        "id": "wHoya-2rofAq"
      }
    },
    {
      "cell_type": "code",
      "source": [
        "count_dict = {}\n",
        "unique_values = []\n",
        "while True:\n",
        "    num = int(input(\"Введите число (0 для завершения): \"))\n",
        "    if num == 0:\n",
        "        break\n",
        "    count_dict[num] = count_dict.get(num, 0) + 1\n",
        "\n",
        "unique_values = list(count_dict.keys())\n",
        "\n",
        "print(\"Словарь с количеством вхождений:\", count_dict)\n",
        "print(\"Список уникальных значений:\", unique_values)"
      ],
      "metadata": {
        "colab": {
          "base_uri": "https://localhost:8080/"
        },
        "id": "kWr71gfmoioY",
        "outputId": "6219096b-4f9f-40f9-98ee-f7fd98e47dd0"
      },
      "execution_count": 21,
      "outputs": [
        {
          "output_type": "stream",
          "name": "stdout",
          "text": [
            "Введите число (0 для завершения): 2\n",
            "Введите число (0 для завершения): 2\n",
            "Введите число (0 для завершения): 3\n",
            "Введите число (0 для завершения): 34\n",
            "Введите число (0 для завершения): 241\n",
            "Введите число (0 для завершения): 8\n",
            "Введите число (0 для завершения): 0\n",
            "Словарь с количеством вхождений: {2: 2, 3: 1, 34: 1, 241: 1, 8: 1}\n",
            "Список уникальных значений: [2, 3, 34, 241, 8]\n"
          ]
        }
      ]
    },
    {
      "cell_type": "markdown",
      "source": [
        "Задача 1\n",
        "С клавиатуры вводятся числа. Ввод считывается до тех пор, пока не введен 0. Необходимо вернуть:\n",
        "1. Словарь, в котором ключами являются введенные значения, а значениями - сколько раз такое значение встретилось в последовательности.\n",
        "2. Список уникальных введенных значений\n"
      ],
      "metadata": {
        "id": "ZSOMLn5Top_v"
      }
    },
    {
      "cell_type": "code",
      "source": [
        "phonebook = {}\n",
        "while True:\n",
        "    command = input(\"Введите 'add', чтобы добавить запись, 'who', чтобы узнать номер, или 'exit' для выхода: \").strip().lower()\n",
        "\n",
        "    if command == \"add\":\n",
        "        name = input(\"Введите имя: \").strip()\n",
        "        phone = input(\"Введите номер: \").strip()\n",
        "        if name in phonebook:\n",
        "            print(f\"Запись с именем '{name}' уже существует. Заменить номер? (yes/no)\")\n",
        "            confirm = input().strip().lower()\n",
        "            if confirm != \"yes\":\n",
        "                print(\"Добавление отменено.\")\n",
        "                continue\n",
        "        phonebook[name] = phone\n",
        "        print(f'Добавлена запись \"{name}\": \"{phone}\"')\n",
        "\n",
        "    elif command == \"who\":\n",
        "        name = input(\"Введите имя: \").strip()\n",
        "        if name in phonebook:\n",
        "            print(f'Номер телефона для \"{name}\": {phonebook[name]}')\n",
        "        else:\n",
        "            print(f'Запись с именем \"{name}\" не найдена.')\n",
        "\n",
        "    elif command == \"exit\":\n",
        "        print(\"Выход из телефонной книги.\")\n",
        "        break\n",
        "\n",
        "    else:\n",
        "        print(\"Неизвестная команда. Пожалуйста, введите 'add', 'who' или 'exit'.\")"
      ],
      "metadata": {
        "colab": {
          "base_uri": "https://localhost:8080/"
        },
        "id": "zYwlU_Fxos0e",
        "outputId": "7a489a33-f5e2-4974-d197-f6cd596fb4ae"
      },
      "execution_count": 22,
      "outputs": [
        {
          "output_type": "stream",
          "name": "stdout",
          "text": [
            "Введите 'add', чтобы добавить запись, 'who', чтобы узнать номер, или 'exit' для выхода: add\n",
            "Введите имя: кирилл\n",
            "Введите номер: 8912491\n",
            "Добавлена запись \"кирилл\": \"8912491\"\n",
            "Введите 'add', чтобы добавить запись, 'who', чтобы узнать номер, или 'exit' для выхода: who\n",
            "Введите имя: alerik\n",
            "Запись с именем \"alerik\" не найдена.\n",
            "Введите 'add', чтобы добавить запись, 'who', чтобы узнать номер, или 'exit' для выхода: 0\n",
            "Неизвестная команда. Пожалуйста, введите 'add', 'who' или 'exit'.\n",
            "Введите 'add', чтобы добавить запись, 'who', чтобы узнать номер, или 'exit' для выхода: exit\n",
            "Выход из телефонной книги.\n"
          ]
        }
      ]
    },
    {
      "cell_type": "markdown",
      "source": [
        "Задача 2\n",
        "Реализуйте электронную телефонную книгу. У телефонной книги должно быть две функции:\n",
        "1. Добавить новую запись\n",
        "2. Узнать номер телефона по имени\n",
        "\n",
        "При вводе с клавиатуры add программа предлагает ввести имя и номер телефона новой записи в телефонную книгу. При вводе с клавиатуры who программа предлагает ввести имя, после чего возвращает соответствующий номер телефона.\n"
      ],
      "metadata": {
        "id": "4sIIc757o4Us"
      }
    },
    {
      "cell_type": "markdown",
      "source": [
        "БИК_24_ИВ_2_Стручков_ЛР10.ipynb"
      ],
      "metadata": {
        "id": "Aasz-VvEo8sT"
      }
    },
    {
      "cell_type": "code",
      "source": [
        "def sum_numbers():\n",
        "    total = 0\n",
        "    print(\"Введите числа: Для завершения введите 0.\")\n",
        "    while True:\n",
        "        num = int(input(\"Введите число: \"))\n",
        "        if num == 0:\n",
        "            break\n",
        "        total += num\n",
        "    return total\n",
        "result = sum_numbers()\n",
        "print(f\"Сумма введенных чисел: {result}\")"
      ],
      "metadata": {
        "colab": {
          "base_uri": "https://localhost:8080/"
        },
        "id": "_3U_tOrWpCyH",
        "outputId": "b367bb6a-9ec8-458a-dd46-c8271fa1ed52"
      },
      "execution_count": 23,
      "outputs": [
        {
          "output_type": "stream",
          "name": "stdout",
          "text": [
            "Введите числа: Для завершения введите 0.\n",
            "Введите число: 3\n",
            "Введите число: 4\n",
            "Введите число: 2\n",
            "Введите число: 6\n",
            "Введите число: 0\n",
            "Сумма введенных чисел: 15\n"
          ]
        }
      ]
    },
    {
      "cell_type": "markdown",
      "source": [
        "Задача 1\n",
        "С клавиатуры вводятся числа до тех пор, пока не введен 0. Реализуйте функцию для суммирования всех введенных чисел.\n",
        "\n"
      ],
      "metadata": {
        "id": "RkxMlUFOpJYW"
      }
    },
    {
      "cell_type": "code",
      "source": [
        "def get_sorted_numbers(phonebook):\n",
        "    \"\"\"Возвращает номера телефонов в порядке возрастания.\"\"\"\n",
        "    return sorted(phonebook.values())\n",
        "\n",
        "def get_sorted_names(phonebook):\n",
        "    \"\"\"Возвращает имена в порядке возрастания.\"\"\"\n",
        "    return sorted(phonebook.keys())\n",
        "\n",
        "phonebook = {}\n",
        "\n",
        "print(\"Введите пары 'имя номер'. Введите '0 0' для завершения.\")\n",
        "while True:\n",
        "    entry = input(\"Введите имя и номер через пробел: \").strip()\n",
        "    name, phone = entry.split()\n",
        "    if name == \"0\" and phone == \"0\":\n",
        "        break\n",
        "    phonebook[name] = phone\n",
        "\n",
        "sorted_numbers = get_sorted_numbers(phonebook)\n",
        "sorted_names = get_sorted_names(phonebook)\n",
        "\n",
        "print(\"Номера телефонов в порядке возрастания:\", sorted_numbers)\n",
        "print(\"Имена в порядке возрастания:\", sorted_names)"
      ],
      "metadata": {
        "colab": {
          "base_uri": "https://localhost:8080/"
        },
        "id": "k6v7m-vZpLLz",
        "outputId": "f8b0b0ac-4bc3-4869-dc6c-413a8c5df829"
      },
      "execution_count": 24,
      "outputs": [
        {
          "output_type": "stream",
          "name": "stdout",
          "text": [
            "Введите пары 'имя номер'. Введите '0 0' для завершения.\n",
            "Введите имя и номер через пробел: kirill 431\n",
            "Введите имя и номер через пробел: miketyson 1313\n",
            "Введите имя и номер через пробел: biden 9933\n",
            "Введите имя и номер через пробел: 0 0\n",
            "Номера телефонов в порядке возрастания: ['1313', '431', '9933']\n",
            "Имена в порядке возрастания: ['biden', 'kirill', 'miketyson']\n"
          ]
        }
      ]
    },
    {
      "cell_type": "markdown",
      "source": [
        "С клавиатуры вводится пара аргументов: имя и соответствующий ему номер телефона. Таких значений может быть введено сколько угодно много, пока не введена пара 0-0. Реализуйте две фукнции:\n",
        "1. Возвращает номера телефонов в порядке возрастания\n",
        "2. Возвращает имена в порядке возрастания\n"
      ],
      "metadata": {
        "id": "qGvxrOLsppBy"
      }
    }
  ]
}