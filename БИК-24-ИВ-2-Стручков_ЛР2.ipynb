{
  "nbformat": 4,
  "nbformat_minor": 0,
  "metadata": {
    "colab": {
      "provenance": [],
      "authorship_tag": "ABX9TyNDFrMQJ/r3rziszGPg953X",
      "include_colab_link": true
    },
    "kernelspec": {
      "name": "python3",
      "display_name": "Python 3"
    },
    "language_info": {
      "name": "python"
    }
  },
  "cells": [
    {
      "cell_type": "markdown",
      "metadata": {
        "id": "view-in-github",
        "colab_type": "text"
      },
      "source": [
        "<a href=\"https://colab.research.google.com/github/kirill123344/LB2/blob/main/%D0%91%D0%98%D0%9A-24-%D0%98%D0%92-2-%D0%A1%D1%82%D1%80%D1%83%D1%87%D0%BA%D0%BE%D0%B2_%D0%9B%D0%A02.ipynb\" target=\"_parent\"><img src=\"https://colab.research.google.com/assets/colab-badge.svg\" alt=\"Open In Colab\"/></a>"
      ]
    },
    {
      "cell_type": "code",
      "execution_count": null,
      "metadata": {
        "colab": {
          "base_uri": "https://localhost:8080/"
        },
        "id": "8V8Z328PGnv5",
        "outputId": "2e1bc89b-f0ab-4224-9b2a-0b5a61866006"
      },
      "outputs": [
        {
          "output_type": "stream",
          "name": "stdout",
          "text": [
            "140.0\n"
          ]
        }
      ],
      "source": [
        "a = 20\n",
        "b = 14\n",
        "c = a*b/2\n",
        "print(c)"
      ]
    },
    {
      "cell_type": "markdown",
      "source": [
        "Дан прямоугольный со сторонами a и b. Найти его площаь."
      ],
      "metadata": {
        "id": "LJQFUKWcKUOf"
      }
    },
    {
      "cell_type": "code",
      "source": [
        "from random import*\n",
        "n=randint(100,1000)\n",
        "print(n)\n",
        "print(n//100,n//10%10,n%10)"
      ],
      "metadata": {
        "colab": {
          "base_uri": "https://localhost:8080/"
        },
        "id": "4G9lsRXPOUNO",
        "outputId": "121d9f29-2b7d-4667-ee3e-fb6cdd170f7c"
      },
      "execution_count": null,
      "outputs": [
        {
          "output_type": "stream",
          "name": "stdout",
          "text": [
            "951\n",
            "9 5 1\n"
          ]
        }
      ]
    },
    {
      "cell_type": "markdown",
      "source": [],
      "metadata": {
        "id": "I3kV9OZuJ2r0"
      }
    },
    {
      "cell_type": "code",
      "source": [
        "n = int(input(\"Введите количество секунд: \"))\n",
        "\n",
        "hh = (n // 3600) % 24\n",
        "mm = (n % 3600) // 60\n",
        "ss = n % 60\n",
        "\n",
        "print(f\"Время сейчас {hh:02}:{mm:02}:{ss:02}\")"
      ],
      "metadata": {
        "id": "tqGhJUL3GrB5",
        "outputId": "10f21d87-2ec3-454a-a7d1-c987abc04697",
        "colab": {
          "base_uri": "https://localhost:8080/"
        }
      },
      "execution_count": 1,
      "outputs": [
        {
          "output_type": "stream",
          "name": "stdout",
          "text": [
            "Введите количество секунд: 1455\n",
            "Время сейчас 00:24:15\n"
          ]
        }
      ]
    },
    {
      "cell_type": "markdown",
      "source": [
        "Дано количество секунд n. Вывести время в формате \"Сейчас hh:mm:ss\". Использовать ТОЛЬКО арифметические операции. Рекомендуется использовать форматированный вывод.\n"
      ],
      "metadata": {
        "id": "AZX3S7iSJ4gr"
      }
    }
  ]
}