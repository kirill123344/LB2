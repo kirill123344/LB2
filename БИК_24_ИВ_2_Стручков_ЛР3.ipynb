{
  "nbformat": 4,
  "nbformat_minor": 0,
  "metadata": {
    "colab": {
      "provenance": [],
      "authorship_tag": "ABX9TyNFzbgIB7o9On/S8imGSDs+",
      "include_colab_link": true
    },
    "kernelspec": {
      "name": "python3",
      "display_name": "Python 3"
    },
    "language_info": {
      "name": "python"
    }
  },
  "cells": [
    {
      "cell_type": "markdown",
      "metadata": {
        "id": "view-in-github",
        "colab_type": "text"
      },
      "source": [
        "<a href=\"https://colab.research.google.com/github/kirill123344/LB2/blob/main/%D0%91%D0%98%D0%9A_24_%D0%98%D0%92_2_%D0%A1%D1%82%D1%80%D1%83%D1%87%D0%BA%D0%BE%D0%B2_%D0%9B%D0%A03.ipynb\" target=\"_parent\"><img src=\"https://colab.research.google.com/assets/colab-badge.svg\" alt=\"Open In Colab\"/></a>"
      ]
    },
    {
      "cell_type": "code",
      "source": [
        "a = input(\"введите строку: \")\n",
        "\n",
        "substrings = a.split(',')\n",
        "\n",
        "lengths = [len(substring) for substring in substrings]\n",
        "\n",
        "print(','. join(map(str, lengths)))"
      ],
      "metadata": {
        "colab": {
          "base_uri": "https://localhost:8080/"
        },
        "id": "dHq2qV153yjr",
        "outputId": "617aa91a-d2a2-48bd-dd00-25c19494f297"
      },
      "execution_count": null,
      "outputs": [
        {
          "output_type": "stream",
          "name": "stdout",
          "text": [
            "введите строку: абв,абвг,вбгд,абд \n",
            "3,4,4,4\n"
          ]
        }
      ]
    },
    {
      "cell_type": "markdown",
      "source": [
        "Дан набор символов определенной длины. Известно, что между символами есть запятые. Найти длину каждой каждой последовательности символов отделенных запятыми. Пример: абв,абвг,вбгд,абд Ответ: 3,4,4,3\n"
      ],
      "metadata": {
        "id": "8AIvofapLjcj"
      }
    },
    {
      "cell_type": "code",
      "source": [
        "stroka = input(\"Введите строку: \")\n",
        "a = int(input(\"Введите индекс a: \"))\n",
        "b = int(input(\"Введите индекс b: \"))\n",
        "\n",
        "words = ''.join(char if char.isalnum() or char.isspace() else '' for char in stroka).split()\n",
        "\n",
        "array_to_a = words[:a]\n",
        "\n",
        "array_from_b = words[b:]\n",
        "\n",
        "print(array_to_a, array_from_b)"
      ],
      "metadata": {
        "colab": {
          "base_uri": "https://localhost:8080/"
        },
        "id": "uH16KuFf4kNN",
        "outputId": "1cce3eb4-5f1d-4798-eeb4-cd73a7a23f1c"
      },
      "execution_count": null,
      "outputs": [
        {
          "output_type": "stream",
          "name": "stdout",
          "text": [
            "Введите строку: Привет, мир\n",
            "Введите индекс a: 8\n",
            "Введите индекс b: 5\n",
            "['Привет', 'мир'] []\n"
          ]
        }
      ]
    },
    {
      "cell_type": "markdown",
      "source": [
        "Даны две переменные и строка: n, m, stroka. Необходимо вывести массив слов с первого элемента строки до элемента n и массив слов с элемента m до конца строки. Массив слов - это набор слов без любых других символов и пробелов. Пример: stroka = Привет, мир n = 8, m = 5, Ответ: [\"Привет\"], [\"т\", \"мир\"]\n"
      ],
      "metadata": {
        "id": "VLp7GsQhLlgX"
      }
    }
  ]
}