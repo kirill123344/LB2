{
  "nbformat": 4,
  "nbformat_minor": 0,
  "metadata": {
    "colab": {
      "provenance": [],
      "authorship_tag": "ABX9TyO3gKH/rdd7BqcBTbHlHFmN",
      "include_colab_link": true
    },
    "kernelspec": {
      "name": "python3",
      "display_name": "Python 3"
    },
    "language_info": {
      "name": "python"
    }
  },
  "cells": [
    {
      "cell_type": "markdown",
      "metadata": {
        "id": "view-in-github",
        "colab_type": "text"
      },
      "source": [
        "<a href=\"https://colab.research.google.com/github/kirill123344/LB2/blob/main/%D0%91%D0%98%D0%9A_24_%D0%98%D0%92_2_%D0%A1%D1%82%D1%80%D1%83%D1%87%D0%BA%D0%BE%D0%B2_%D0%94%D0%97_1%20%D0%BD%D0%B5%D0%B4%D0%B5%D0%BB%D1%8F%202.ipynb\" target=\"_parent\"><img src=\"https://colab.research.google.com/assets/colab-badge.svg\" alt=\"Open In Colab\"/></a>"
      ]
    },
    {
      "cell_type": "markdown",
      "source": [
        "неделя 2"
      ],
      "metadata": {
        "id": "yZ2fjBF9Vj8R"
      }
    },
    {
      "cell_type": "markdown",
      "source": [
        "Задача 1.\n"
      ],
      "metadata": {
        "id": "piDauCXCXouV"
      }
    },
    {
      "cell_type": "code",
      "source": [
        "a = 6\n",
        "b = 3\n",
        "c = a*a + b*b\n",
        "print(c)"
      ],
      "metadata": {
        "colab": {
          "base_uri": "https://localhost:8080/"
        },
        "id": "rkJ2eQ5EWnDA",
        "outputId": "a5def940-9017-4c72-9e7f-fab8b6e58f96"
      },
      "execution_count": 1,
      "outputs": [
        {
          "output_type": "stream",
          "name": "stdout",
          "text": [
            "45\n"
          ]
        }
      ]
    },
    {
      "cell_type": "markdown",
      "source": [],
      "metadata": {
        "id": "EuUXZCwIVmbL"
      }
    },
    {
      "cell_type": "markdown",
      "source": [
        "Задача 2.\n",
        "\n"
      ],
      "metadata": {
        "id": "uVZ_4Lq6cwqP"
      }
    },
    {
      "cell_type": "code",
      "source": [
        "n = int(input())\n",
        "print('The next number for the number ' + str(n) + ' is ' + str(n + 1) + '.')\n",
        "print('The previous number for the number ' + str(n) + ' is ' + str(n - 1) + '.')"
      ],
      "metadata": {
        "id": "JQukhUD9crGQ",
        "colab": {
          "base_uri": "https://localhost:8080/"
        },
        "outputId": "b68f660d-9ceb-4409-ebd9-70bf17b7fd07"
      },
      "execution_count": 4,
      "outputs": [
        {
          "output_type": "stream",
          "name": "stdout",
          "text": [
            "10\n",
            "The next number for the number 10 is 11.\n",
            "The previous number for the number 10 is 9.\n"
          ]
        }
      ]
    },
    {
      "cell_type": "markdown",
      "source": [],
      "metadata": {
        "id": "8qZflrgHUBuD"
      }
    },
    {
      "cell_type": "markdown",
      "source": [
        "задача 3\n"
      ],
      "metadata": {
        "id": "rz46Fv7OSlF6"
      }
    },
    {
      "cell_type": "code",
      "source": [
        "a = int(input())\n",
        "print(a//1000-a%10 + a//100%10-a//10%10 + 1)"
      ],
      "metadata": {
        "colab": {
          "base_uri": "https://localhost:8080/"
        },
        "id": "VXWqG-5ic1VI",
        "outputId": "557464d8-7c71-4f82-ebe0-1b349352ecef"
      },
      "execution_count": 9,
      "outputs": [
        {
          "output_type": "stream",
          "name": "stdout",
          "text": [
            "312\n",
            "1\n"
          ]
        }
      ]
    },
    {
      "cell_type": "markdown",
      "source": [
        "задача 4"
      ],
      "metadata": {
        "id": "U0lXAbhvWaqG"
      }
    },
    {
      "cell_type": "code",
      "source": [
        "g = int(input())\n",
        "d = int(input())\n",
        "f = int(input())\n",
        "print(1 + (g - d) // (d - f))"
      ],
      "metadata": {
        "colab": {
          "base_uri": "https://localhost:8080/"
        },
        "id": "PxCoKilNWc20",
        "outputId": "2187c99b-1945-4c63-ee3e-fa2c6701d138"
      },
      "execution_count": 11,
      "outputs": [
        {
          "output_type": "stream",
          "name": "stdout",
          "text": [
            "30\n",
            "5\n",
            "6\n",
            "-24\n"
          ]
        }
      ]
    },
    {
      "cell_type": "markdown",
      "source": [
        "задача 5"
      ],
      "metadata": {
        "id": "ucznLosvY2Ah"
      }
    },
    {
      "cell_type": "code",
      "source": [
        "a = int(input())\n",
        "f = (a // 3600) % 24\n",
        "a = a % 3600\n",
        "e = (a // 60)\n",
        "if e < 10:\n",
        "    e = \"0\" + str (e)\n",
        "r = a % 60\n",
        "if r < 10:\n",
        "    r = \"0\" + str (r)\n",
        "print(f, e, r, sep=':')"
      ],
      "metadata": {
        "colab": {
          "base_uri": "https://localhost:8080/"
        },
        "id": "y6zbgSm9Y56a",
        "outputId": "482902f4-5092-4aac-f525-fc972d9de69c"
      },
      "execution_count": 16,
      "outputs": [
        {
          "output_type": "stream",
          "name": "stdout",
          "text": [
            "3600\n",
            "1:00:00\n"
          ]
        }
      ]
    },
    {
      "cell_type": "markdown",
      "source": [
        "задача 6"
      ],
      "metadata": {
        "id": "1X1F7XTmaP1V"
      }
    },
    {
      "cell_type": "code",
      "source": [
        "a1=list(map(int,input().split(':')))\n",
        "a2=list(map(int,input().split(':')))\n",
        "\n",
        "d1=a1[0]*3600+a1[1]*60+a1[2]\n",
        "d2=a1[0]*3600+a1[1]*60+a1[2]\n",
        "\n",
        "f = d2 - d1\n",
        "\n",
        "t = f // 3600\n",
        "f = f %3600\n",
        "m = f // 60\n",
        "o = f %60\n",
        "print(t,m,o)"
      ],
      "metadata": {
        "colab": {
          "base_uri": "https://localhost:8080/"
        },
        "id": "wTBzIbo2aRdE",
        "outputId": "92203157-2e14-4951-f6e7-f82a7076e4ff"
      },
      "execution_count": 10,
      "outputs": [
        {
          "output_type": "stream",
          "name": "stdout",
          "text": [
            "15:00:00\n",
            "16:20:00\n",
            "0 0 0\n"
          ]
        }
      ]
    },
    {
      "cell_type": "markdown",
      "source": [
        "Задача 7"
      ],
      "metadata": {
        "id": "Ez18hEhPy6M_"
      }
    },
    {
      "cell_type": "code",
      "source": [
        "r = int(input())\n",
        "e = int(input())\n",
        "r += e\n",
        "e = r - e\n",
        "r = r - e\n",
        "print(r,e7)"
      ],
      "metadata": {
        "colab": {
          "base_uri": "https://localhost:8080/"
        },
        "id": "FEtoNX3ly7yq",
        "outputId": "33ad5d84-a12e-4f8b-9cf6-4dada3a0917b"
      },
      "execution_count": 12,
      "outputs": [
        {
          "output_type": "stream",
          "name": "stdout",
          "text": [
            "6\n",
            "8\n",
            "8 6\n"
          ]
        }
      ]
    },
    {
      "cell_type": "markdown",
      "source": [
        "задача 8"
      ],
      "metadata": {
        "id": "NxdIIeT3zrsJ"
      }
    },
    {
      "cell_type": "code",
      "source": [
        "a = int(input())\n",
        "r = int(input())\n",
        "print(-r % a)"
      ],
      "metadata": {
        "colab": {
          "base_uri": "https://localhost:8080/"
        },
        "id": "8AILthN3zwWN",
        "outputId": "0e9f9a14-9e01-4dc5-be50-5419988d2f4a"
      },
      "execution_count": 13,
      "outputs": [
        {
          "output_type": "stream",
          "name": "stdout",
          "text": [
            "15\n",
            "7\n",
            "8\n"
          ]
        }
      ]
    },
    {
      "cell_type": "markdown",
      "source": [
        "задача 9"
      ],
      "metadata": {
        "id": "-gS3PFCq0Prr"
      }
    },
    {
      "cell_type": "code",
      "source": [
        "a = int(input())\n",
        "f = a % 10\n",
        "a = a // 10\n",
        "b = a % 10\n",
        "a = a // 10\n",
        "print(a + f + b)"
      ],
      "metadata": {
        "colab": {
          "base_uri": "https://localhost:8080/"
        },
        "id": "TCj47qap0Q0k",
        "outputId": "877bbb6f-f65c-463b-d368-2edd9563db84"
      },
      "execution_count": 15,
      "outputs": [
        {
          "output_type": "stream",
          "name": "stdout",
          "text": [
            "30\n",
            "3\n"
          ]
        }
      ]
    }
  ]
}