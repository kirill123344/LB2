{
  "nbformat": 4,
  "nbformat_minor": 0,
  "metadata": {
    "colab": {
      "provenance": [],
      "authorship_tag": "ABX9TyNG8CDf5iDD6ScvPb3Se9CA",
      "include_colab_link": true
    },
    "kernelspec": {
      "name": "python3",
      "display_name": "Python 3"
    },
    "language_info": {
      "name": "python"
    }
  },
  "cells": [
    {
      "cell_type": "markdown",
      "metadata": {
        "id": "view-in-github",
        "colab_type": "text"
      },
      "source": [
        "<a href=\"https://colab.research.google.com/github/kirill123344/LB2/blob/main/%D0%91%D0%98%D0%9A_24_%D0%98%D0%92_2_%D0%A1%D1%82%D1%80%D1%83%D1%87%D0%BA%D0%BE%D0%B2_%D0%94%D0%97_2_%D0%BD%D0%B5%D0%B4%D0%B5%D0%BB%D1%8F_3.ipynb\" target=\"_parent\"><img src=\"https://colab.research.google.com/assets/colab-badge.svg\" alt=\"Open In Colab\"/></a>"
      ]
    },
    {
      "cell_type": "markdown",
      "source": [
        "задача 1 неделя 3"
      ],
      "metadata": {
        "id": "Bfk8BaVr1IHo"
      }
    },
    {
      "cell_type": "code",
      "source": [
        "a = input(\"введите строку a: \")\n",
        "b = input(\"введите строку b: \")\n",
        "\n",
        "a_lower = a.lower()\n",
        "b_lower = b.lower()\n",
        "\n",
        "index = a_lower.find(b_lower)\n",
        "\n",
        "if index != -1:\n",
        "    substring = a[index:index + len(b)]\n",
        "    print(index)\n",
        "    print(substring)"
      ],
      "metadata": {
        "colab": {
          "base_uri": "https://localhost:8080/"
        },
        "id": "SKh0ABmL1MHc",
        "outputId": "65ed6e1c-4752-47ed-8af6-acb3a108a27d"
      },
      "execution_count": 3,
      "outputs": [
        {
          "output_type": "stream",
          "name": "stdout",
          "text": [
            "введите строку a: Привет, мир, пока\n",
            "введите строку b: мир\n",
            "8\n",
            "мир\n"
          ]
        }
      ]
    },
    {
      "cell_type": "markdown",
      "source": [
        "задача 2"
      ],
      "metadata": {
        "id": "-3Sd9-yU3xIE"
      }
    },
    {
      "cell_type": "code",
      "source": [
        "a = input(\"введите строку: \")\n",
        "\n",
        "substrings = a.split(',')\n",
        "\n",
        "lengths = [len(substring) for substring in substrings]\n",
        "\n",
        "print(','. join(map(str, lengths)))"
      ],
      "metadata": {
        "colab": {
          "base_uri": "https://localhost:8080/"
        },
        "id": "dHq2qV153yjr",
        "outputId": "617aa91a-d2a2-48bd-dd00-25c19494f297"
      },
      "execution_count": 4,
      "outputs": [
        {
          "output_type": "stream",
          "name": "stdout",
          "text": [
            "введите строку: абв,абвг,вбгд,абд \n",
            "3,4,4,4\n"
          ]
        }
      ]
    },
    {
      "cell_type": "markdown",
      "source": [
        "задача 3"
      ],
      "metadata": {
        "id": "03_5ki7F4hzS"
      }
    },
    {
      "cell_type": "code",
      "source": [
        "stroka = input(\"Введите строку: \")\n",
        "a = int(input(\"Введите индекс a: \"))\n",
        "b = int(input(\"Введите индекс b: \"))\n",
        "\n",
        "words = ''.join(char if char.isalnum() or char.isspace() else '' for char in stroka).split()\n",
        "\n",
        "array_to_a = words[:a]\n",
        "\n",
        "array_from_b = words[b:]\n",
        "\n",
        "print(array_to_a, array_from_b)"
      ],
      "metadata": {
        "colab": {
          "base_uri": "https://localhost:8080/"
        },
        "id": "uH16KuFf4kNN",
        "outputId": "1cce3eb4-5f1d-4798-eeb4-cd73a7a23f1c"
      },
      "execution_count": 14,
      "outputs": [
        {
          "output_type": "stream",
          "name": "stdout",
          "text": [
            "Введите строку: Привет, мир\n",
            "Введите индекс a: 8\n",
            "Введите индекс b: 5\n",
            "['Привет', 'мир'] []\n"
          ]
        }
      ]
    },
    {
      "cell_type": "markdown",
      "source": [],
      "metadata": {
        "id": "i-33UABH1HXI"
      }
    }
  ]
}