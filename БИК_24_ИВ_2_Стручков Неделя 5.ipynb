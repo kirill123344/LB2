{
  "nbformat": 4,
  "nbformat_minor": 0,
  "metadata": {
    "colab": {
      "provenance": [],
      "authorship_tag": "ABX9TyPQyl/liQ/iFiyM2ABwOyNw",
      "include_colab_link": true
    },
    "kernelspec": {
      "name": "python3",
      "display_name": "Python 3"
    },
    "language_info": {
      "name": "python"
    }
  },
  "cells": [
    {
      "cell_type": "markdown",
      "metadata": {
        "id": "view-in-github",
        "colab_type": "text"
      },
      "source": [
        "<a href=\"https://colab.research.google.com/github/kirill123344/LB2/blob/main/_5_.ipynb\" target=\"_parent\"><img src=\"https://colab.research.google.com/assets/colab-badge.svg\" alt=\"Open In Colab\"/></a>"
      ]
    },
    {
      "cell_type": "code",
      "source": [
        "numbers = input().split()\n",
        "\n",
        "seen = set()\n",
        "\n",
        "for num in numbers:\n",
        "    if num in seen:\n",
        "        print(\"YES\")\n",
        "    else:\n",
        "        print(\"NO\")\n",
        "        seen.add(num)"
      ],
      "metadata": {
        "id": "bquX4os7sGkq"
      },
      "execution_count": null,
      "outputs": []
    },
    {
      "cell_type": "markdown",
      "source": [
        "Задача 1. Последовательность чисел"
      ],
      "metadata": {
        "id": "KzaAh3tjsdHI"
      }
    },
    {
      "cell_type": "code",
      "source": [
        "from collections import defaultdict, deque\n",
        "\n",
        "def min_transfers(N, M, metro_lines, A, B):\n",
        "    station_to_lines = defaultdict(list)\n",
        "    for i, line in enumerate(metro_lines):\n",
        "        for station in line:\n",
        "            station_to_lines[station].append(i)\n",
        "\n",
        "    line_graph = defaultdict(set)\n",
        "    for lines in station_to_lines.values():\n",
        "        for i in range(len(lines)):\n",
        "            for j in range(i + 1, len(lines)):\n",
        "                line_graph[lines[i]].add(lines[j])\n",
        "                line_graph[lines[j]].add(lines[i])\n",
        "\n",
        "    start_lines = station_to_lines[A]\n",
        "    end_lines = set(station_to_lines[B])\n",
        "\n",
        "    visited = set()\n",
        "    queue = deque([(line, 0) for line in start_lines])\n",
        "    visited.update(start_lines)\n",
        "\n",
        "    while queue:\n",
        "        current_line, transfers = queue.popleft()\n",
        "        if current_line in end_lines:\n",
        "            return transfers\n",
        "        for neighbor in line_graph[current_line]:\n",
        "            if neighbor not in visited:\n",
        "                visited.add(neighbor)\n",
        "                queue.append((neighbor, transfers + 1))\n",
        "\n",
        "    return -1\n",
        "\n",
        "\n",
        "N = int(input())\n",
        "M = int(input())\n",
        "metro_lines = []\n",
        "for _ in range(M):\n",
        "    line = list(map(int, input().split()))[1:]\n",
        "    metro_lines.append(line)\n",
        "A, B = map(int, input().split())\n",
        "\n",
        "result = min_transfers(N, M, metro_lines, A, B)\n",
        "print(result)\n"
      ],
      "metadata": {
        "colab": {
          "base_uri": "https://localhost:8080/"
        },
        "collapsed": true,
        "id": "Nohljwk-sdhG",
        "outputId": "605d391e-f02c-47ab-fd03-df94f10a4a41"
      },
      "execution_count": null,
      "outputs": [
        {
          "output_type": "stream",
          "name": "stdout",
          "text": [
            "6\n",
            "3\n",
            "3 1 2 3\n",
            "4 4 5 6 2\n",
            "2 3 5\n",
            "1 6\n",
            "1\n"
          ]
        }
      ]
    },
    {
      "cell_type": "markdown",
      "source": [
        "Задача 2. Метро\n"
      ],
      "metadata": {
        "id": "6Ie3AGbqxkn9"
      }
    },
    {
      "cell_type": "code",
      "source": [
        "M = int(input())\n",
        "country_to_city = {}\n",
        "for _ in range(M):\n",
        "    data = input().split()\n",
        "    country = data[0]\n",
        "    cities = data[1:]\n",
        "    for city in cities:\n",
        "        country_to_city[city] = country\n",
        "M = int(input())\n",
        "queries = [input().strip() for _ in range(M)]\n",
        "for query in queries:\n",
        "    print(country_to_city[query])"
      ],
      "metadata": {
        "id": "cKQK4ERpxl_8"
      },
      "execution_count": null,
      "outputs": []
    },
    {
      "cell_type": "markdown",
      "source": [
        "Задача 3. Словарь стран"
      ],
      "metadata": {
        "id": "Tsl4RtDzzLM1"
      }
    },
    {
      "cell_type": "code",
      "source": [
        "def calculate_votes(file_path):\n",
        "    votes = {}\n",
        "\n",
        "    with open(file_path, 'r') as file:\n",
        "        for line in file:\n",
        "            candidate, count = line.rsplit(maxsplit=1)\n",
        "            count = int(count)\n",
        "\n",
        "            if candidate in votes:\n",
        "                votes[candidate] += count\n",
        "            else:\n",
        "                votes[candidate] = count\n",
        "\n",
        "    sorted_candidates = sorted(votes.items())\n",
        "\n",
        "    for candidate, total_votes in sorted_candidates:\n",
        "        print(candidate, total_votes)\n",
        "\n",
        "file_path = 'input.txt'\n",
        "calculate_votes(file_path)"
      ],
      "metadata": {
        "colab": {
          "base_uri": "https://localhost:8080/"
        },
        "id": "fRArKeLzaqwx",
        "outputId": "153b67f0-ea64-4542-be99-1a786d90513d"
      },
      "execution_count": null,
      "outputs": [
        {
          "output_type": "stream",
          "name": "stdout",
          "text": [
            "Bieden 15\n",
            "Putin 80\n",
            "Trump 120\n"
          ]
        }
      ]
    },
    {
      "cell_type": "markdown",
      "source": [
        "Задача 3. Выборы\n"
      ],
      "metadata": {
        "id": "8DfLi_4lbg4i"
      }
    },
    {
      "cell_type": "code",
      "source": [
        "from collections import defaultdict\n",
        "\n",
        "def word_frequency_analysis(text):\n",
        "    words = text.lower().split()\n",
        "\n",
        "    frequency = defaultdict(int)\n",
        "    for word in words:\n",
        "        frequency[word] += 1\n",
        "\n",
        "\n",
        "    sorted_words = sorted(frequency.items(), key=lambda x: (-x[1], x[0]))\n",
        "\n",
        "    for word, count in sorted_words:\n",
        "        print(word)\n",
        "\n",
        "text = input(\"Введите текст: \")\n",
        "word_frequency_analysis(text)"
      ],
      "metadata": {
        "colab": {
          "base_uri": "https://localhost:8080/"
        },
        "id": "l2OpAFAHbtyK",
        "outputId": "b78a982e-75ba-479a-c869-67b62e7d55f7"
      },
      "execution_count": null,
      "outputs": [
        {
          "output_type": "stream",
          "name": "stdout",
          "text": [
            "Введите текст: я люблю ананасовый сок \n",
            "ананасовый\n",
            "люблю\n",
            "сок\n",
            "я\n"
          ]
        }
      ]
    },
    {
      "cell_type": "markdown",
      "source": [
        "Задача 4. Анализ частотности"
      ],
      "metadata": {
        "id": "WC4LI4bpePeS"
      }
    },
    {
      "cell_type": "code",
      "source": [
        "def bank_system(operations):\n",
        "    storage = {}\n",
        "\n",
        "    def deposit(name, sum):\n",
        "        storage[name] = storage.get(name, 0) + sum\n",
        "\n",
        "    def withdraw(name, sum):\n",
        "        storage[name] = storage.get(name, 0) - sum\n",
        "\n",
        "    def balance(name):\n",
        "        if name in storage:\n",
        "            print(storage[name])\n",
        "        else:\n",
        "            print(\"ERROR\")\n",
        "\n",
        "    def transfer(name1, name2, sum):\n",
        "        storage[name1] = storage.get(name1, 0) - sum\n",
        "        storage[name2] = storage.get(name2, 0) + sum\n",
        "\n",
        "    def income(p):\n",
        "        for name in storage:\n",
        "            if storage[name] > 0:\n",
        "                storage[name] += storage[name] * p // 100\n",
        "\n",
        "    for operation in operations:\n",
        "        parts = operation.split()\n",
        "        command = parts[0]\n",
        "\n",
        "        if command == \"DEPOSIT\":\n",
        "            deposit(parts[1], int(parts[2]))\n",
        "        elif command == \"WITHDRAW\":\n",
        "            withdraw(parts[1], int(parts[2]))\n",
        "        elif command == \"BALANCE\":\n",
        "            balance(parts[1])\n",
        "        elif command == \"TRANSFER\":\n",
        "            transfer(parts[1], parts[2], int(parts[3]))\n",
        "        elif command == \"INCOME\":\n",
        "            income(int(parts[1]))\n",
        "\n",
        "operations = [\n",
        "    \"DEPOSIT Sokolov 1000\",\n",
        "    \"INCOME 105\",\n",
        "    \"BALANCE Sokolov\",\n",
        "    \"TRANSFER Sokolov Chearaev 508\",\n",
        "    \"WITHDRAW Chearaev 307\",\n",
        "    \"BALANCE Chearaev\",\n",
        "    \"BALANCE Petrov\"\n",
        "]\n",
        "\n",
        "bank_system(operations)"
      ],
      "metadata": {
        "colab": {
          "base_uri": "https://localhost:8080/"
        },
        "id": "5LvCJGBkeSAD",
        "outputId": "c9318849-5d81-417e-926d-3a1c91d3c1bb"
      },
      "execution_count": null,
      "outputs": [
        {
          "output_type": "stream",
          "name": "stdout",
          "text": [
            "2050\n",
            "201\n",
            "ERROR\n"
          ]
        }
      ]
    },
    {
      "cell_type": "code",
      "source": [
        "def generate_matrix(n, m):\n",
        "    matrix = [[0] * m for _ in range(n)]\n",
        "    count = 0\n",
        "    for i in range(n):\n",
        "        if i % 2 == 0:\n",
        "            for j in range(m):\n",
        "                matrix[i][j] = count\n",
        "                count += 1\n",
        "        else:\n",
        "            for j in range(m - 1, -1, -1):\n",
        "                matrix[i][j] = count\n",
        "                count += 1\n",
        "    return matrix\n",
        "\n",
        "try:\n",
        "    n, m, x, y = map(int, input(\"Введите N, M, X, Y через пробел: \").split())\n",
        "\n",
        "    if not (1 <= x <= n <= 50 and 1 <= y <= m <= 50):\n",
        "        print(\"Error: все значения должны быть в диапазоне 1 ≤ X ≤ N ≤ 50, 1 ≤ Y ≤ M ≤ 50.\")\n",
        "    else:\n",
        "        matrix = generate_matrix(n, m)\n",
        "\n",
        "        print(\"Сгенерированная матрица:\")\n",
        "        for row in matrix:\n",
        "            print(row)\n",
        "\n",
        "\n",
        "        print(\"Искомый элемент:\", matrix[x - 1][y - 1])\n",
        "\n",
        "except ValueError:\n",
        "    print(\"Error: введите четыре натуральных числа, разделенных пробелами.\")\n"
      ],
      "metadata": {
        "colab": {
          "base_uri": "https://localhost:8080/"
        },
        "id": "X3HmHY72qXRm",
        "outputId": "7108023e-5502-428f-edb2-c00b9c4f9b5a"
      },
      "execution_count": null,
      "outputs": [
        {
          "output_type": "stream",
          "name": "stdout",
          "text": [
            "Введите N, M, X, Y через пробел: 5 5 1 2\n",
            "Сгенерированная матрица:\n",
            "[0, 1, 2, 3, 4]\n",
            "[9, 8, 7, 6, 5]\n",
            "[10, 11, 12, 13, 14]\n",
            "[19, 18, 17, 16, 15]\n",
            "[20, 21, 22, 23, 24]\n",
            "Искомый элемент: 1\n"
          ]
        }
      ]
    },
    {
      "cell_type": "markdown",
      "source": [
        "Задача 6."
      ],
      "metadata": {
        "id": "nZr6flZbsUY3"
      }
    },
    {
      "cell_type": "code",
      "source": [
        "def calculate_calories(n, field):\n",
        "    x, y = n - 1, 0\n",
        "    total_calories = field[x][y]\n",
        "\n",
        "    while x != 0 or y != n - 1:\n",
        "        if x > 0 and y < n - 1:\n",
        "            if field[x - 1][y] > field[x][y + 1]:\n",
        "                x -= 1\n",
        "            else:\n",
        "                y += 1  #\n",
        "        elif x > 0:\n",
        "            x -= 1\n",
        "        elif y < n - 1:\n",
        "            y += 1\n",
        "\n",
        "        total_calories += field[x][y]\n",
        "\n",
        "    return total_calories\n",
        "\n",
        "try:\n",
        "    n = int(input(\"Введите размер поля N: \"))\n",
        "    if not (2 <= n <= 10):\n",
        "        print(\"Ошибка: N должно быть в диапазоне 2 ≤ N ≤ 10.\")\n",
        "    else:\n",
        "        print(\"Введите калорийность травы построчно (по одной строке на ряд):\")\n",
        "        field = []\n",
        "        for _ in range(n):\n",
        "            row = list(map(int, input().split()))\n",
        "            if len(row) != n:\n",
        "                raise ValueError(\"Каждая строка должна содержать ровно N чисел.\")\n",
        "            field.append(row)\n",
        "\n",
        "        result = calculate_calories(n, field)\n",
        "        print(\"Общее количество калорий:\", result)\n",
        "\n",
        "except ValueError as e:\n",
        "    print(\"Ошибка ввода:\", e)\n"
      ],
      "metadata": {
        "colab": {
          "base_uri": "https://localhost:8080/"
        },
        "id": "YZ7_EiISsXZt",
        "outputId": "d5e02066-92eb-44fd-d3f0-5cb364656489"
      },
      "execution_count": null,
      "outputs": [
        {
          "output_type": "stream",
          "name": "stdout",
          "text": [
            "Введите размер поля N: 3\n",
            "Введите калорийность травы построчно (по одной строке на ряд):\n",
            "1 2 4\n",
            "1 3 5\n",
            "1 5 7\n",
            "Общее количество калорий: 22\n"
          ]
        }
      ]
    },
    {
      "cell_type": "markdown",
      "source": [
        "\n",
        "Задача 7. Корова на поле\n"
      ],
      "metadata": {
        "id": "2LoWyFD3tdxK"
      }
    },
    {
      "cell_type": "code",
      "source": [
        "def check_columns(x, n, matrix):\n",
        "\n",
        "    results = []\n",
        "    for col in range(n):\n",
        "        found = any(row[col] == x for row in matrix)\n",
        "        results.append(\"YES\" if found else \"NO\")\n",
        "    return results\n",
        "\n",
        "try:\n",
        "    x = int(input(\"Введите число X: \"))\n",
        "    n = int(input(\"Введите размер таблицы N: \"))\n",
        "\n",
        "    if not (1 <= n <= 100):\n",
        "        print(\"Ошибка: N должно быть в диапазоне 1 ≤ N ≤ 100.\")\n",
        "    else:\n",
        "        print(\"Введите элементы таблицы построчно (по одной строке из N чисел):\")\n",
        "        matrix = []\n",
        "        for _ in range(n):\n",
        "            row = list(map(int, input().split()))\n",
        "            if len(row) != n:\n",
        "                raise ValueError(\"Каждая строка должна содержать ровно N чисел.\")\n",
        "            matrix.append(row)\n",
        "\n",
        "        results = check_columns(x, n, matrix)\n",
        "        print(\"\\nРезультаты:\")\n",
        "        print(\"\\n\".join(results))\n",
        "\n",
        "except ValueError as e:\n",
        "    print(\"Ошибка ввода:\", e)\n"
      ],
      "metadata": {
        "colab": {
          "base_uri": "https://localhost:8080/"
        },
        "id": "-qTOwSFEtf8_",
        "outputId": "6a401b2c-05f9-4b52-f2f0-9dc3a891a64c"
      },
      "execution_count": null,
      "outputs": [
        {
          "output_type": "stream",
          "name": "stdout",
          "text": [
            "Введите число X: 3\n",
            "Введите размер таблицы N: 2\n",
            "Введите элементы таблицы построчно (по одной строке из N чисел):\n",
            "1 3\n",
            "3 2\n",
            "\n",
            "Результаты:\n",
            "YES\n",
            "YES\n"
          ]
        }
      ]
    },
    {
      "cell_type": "markdown",
      "source": [
        "Задача 8. Петр Первый"
      ],
      "metadata": {
        "id": "RAdl_bcc7g2N"
      }
    },
    {
      "cell_type": "code",
      "source": [
        "from collections import defaultdict\n",
        "\n",
        "def process_sales(sales):\n",
        "    data = defaultdict(lambda: defaultdict(int))\n",
        "\n",
        "    for sale in sales:\n",
        "        buyer, item, quantity = sale.split()\n",
        "        quantity = int(quantity)\n",
        "        data[buyer][item] += quantity\n",
        "\n",
        "    return data\n",
        "def print_sales_summary(data):\n",
        "\n",
        "    for buyer in sorted(data.keys()):\n",
        "        print(f\"{buyer}:\")\n",
        "        for item in sorted(data[buyer].keys()):\n",
        "            print(f\"  {item} {data[buyer][item]}\")\n",
        "\n",
        "try:\n",
        "    print(\"Введите информацию о продажах построчно (формат: Покупатель товар количество). Завершите ввод пустой строкой:\")\n",
        "    sales = []\n",
        "    while True:\n",
        "        line = input()\n",
        "        if not line.strip():\n",
        "            break\n",
        "        sales.append(line)\n",
        "\n",
        "    sales_data = process_sales(sales)\n",
        "\n",
        "    print(\"\\nРезультаты:\")\n",
        "    print_sales_summary(sales_data)\n",
        "\n",
        "except Exception as e:\n",
        "    print(\"Ошибка обработки данных:\", e)\n"
      ],
      "metadata": {
        "colab": {
          "base_uri": "https://localhost:8080/"
        },
        "id": "g80GZldh7kFr",
        "outputId": "34be211c-fbed-493b-ae57-e581bb8ab71a"
      },
      "execution_count": null,
      "outputs": [
        {
          "output_type": "stream",
          "name": "stdout",
          "text": [
            "Введите информацию о продажах построчно (формат: Покупатель товар количество). Завершите ввод пустой строкой:\n",
            "Kirill rtx 14\n",
            "Kirill iphone 8\n",
            "Artur  rtx 4\n",
            "Artur dayson 3\n",
            "Kirill dayson 7\n",
            "\n",
            "\n",
            "Результаты:\n",
            "Artur:\n",
            "  dayson 3\n",
            "  rtx 4\n",
            "Kirill:\n",
            "  dayson 7\n",
            "  iphone 8\n",
            "  rtx 14\n"
          ]
        }
      ]
    },
    {
      "cell_type": "markdown",
      "source": [
        "Задача 9. База данных интернет-магазина"
      ],
      "metadata": {
        "id": "94_HJx1eT6Ig"
      }
    },
    {
      "cell_type": "code",
      "source": [
        "def process_permissions_and_queries(n, file_data, m, queries):\n",
        "    permission_map = {\n",
        "        \"write\": \"W\",\n",
        "        \"read\": \"R\",\n",
        "        \"execute\": \"X\"\n",
        "    }\n",
        "\n",
        "    files = {}\n",
        "    for line in file_data:\n",
        "        parts = line.split()\n",
        "        filename = parts[0]\n",
        "        permissions = set(parts[1:])\n",
        "        files[filename] = permissions\n",
        "\n",
        "    results = []\n",
        "    for query in queries:\n",
        "        operation, filename = query.split()\n",
        "        required_permission = permission_map.get(operation, None)\n",
        "        if required_permission and filename in files and required_permission in files[filename]:\n",
        "            results.append(\"OK\")\n",
        "        else:\n",
        "            results.append(\"Access denied\")\n",
        "\n",
        "    return results\n",
        "\n",
        "n = int(input(\"Введите количество файлов N: \"))\n",
        "file_data = [input() for _ in range(n)]\n",
        "m = int(input(\"Введите количество запросов M: \"))\n",
        "queries = [input() for _ in range(m)]\n",
        "\n",
        "results = process_permissions_and_queries(n, file_data, m, queries)\n",
        "print(\"\\n\".join(results))"
      ],
      "metadata": {
        "colab": {
          "base_uri": "https://localhost:8080/"
        },
        "id": "UzEHse02T8Hx",
        "outputId": "8c256a58-8bc8-4ace-c53e-e336b37d94d0"
      },
      "execution_count": null,
      "outputs": [
        {
          "output_type": "stream",
          "name": "stdout",
          "text": [
            "Введите количество файлов N: 4\n",
            "helloworld.exe R X\n",
            "pinglog W R\n",
            "nya R\n",
            "goodluck X W R\n",
            "Введите количество запросов M: 5\n",
            "read nya\n",
            "write helloworld.exe\n",
            "execute nya\n",
            "read pinglog\n",
            "write pinglog\n",
            "OK\n",
            "Access denied\n",
            "Access denied\n",
            "OK\n",
            "OK\n"
          ]
        }
      ]
    },
    {
      "cell_type": "markdown",
      "source": [
        "задача 10"
      ],
      "metadata": {
        "id": "K0Wo4CVkcR96"
      }
    }
  ]
}
